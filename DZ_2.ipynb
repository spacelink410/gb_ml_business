{
  "nbformat": 4,
  "nbformat_minor": 0,
  "metadata": {
    "colab": {
      "name": "DZ_2.ipynb\"",
      "provenance": [],
      "collapsed_sections": []
    },
    "kernelspec": {
      "display_name": "Python 3",
      "language": "python",
      "name": "python3"
    },
    "language_info": {
      "codemirror_mode": {
        "name": "ipython",
        "version": 3
      },
      "file_extension": ".py",
      "mimetype": "text/x-python",
      "name": "python",
      "nbconvert_exporter": "python",
      "pygments_lexer": "ipython3",
      "version": "3.8.3"
    }
  },
  "cells": [
    {
      "cell_type": "markdown",
      "metadata": {
        "id": "lgt2Ye-qHSme"
      },
      "source": [
        "### Домашнее задание\n",
        "\n",
        "1. Самостоятельно разобраться с тем, что такое tfidf (документация https://scikit-learn.org/stable/modules/generated/sklearn.feature_extraction.text.TfidfVectorizer.html и еще - https://scikit-learn.org/stable/modules/feature_extraction.html#text-feature-extraction)\n",
        "2. Модифицировать код функции get_user_embedding таким образом, чтобы считалось не среднее (как в примере np.mean), а медиана. Применить такое преобразование к данным, обучить модель прогнозирования оттока и посчитать метрики качества и сохранить их: roc auc, precision/recall/f_score (для 3 последних - подобрать оптимальный порог с помощью precision_recall_curve, как это делалось на уроке)\n",
        "3. Повторить п.2, но используя уже не медиану, а max\n",
        "4. (опциональное, если очень хочется) Воспользовавшись полученными знаниями из п.1, повторить пункт 2, но уже взвешивая новости по tfidf (подсказка: нужно получить веса-коэффициенты для каждого документа. Не все документы одинаково информативны и несут какой-то положительный сигнал). Подсказка 2 - нужен именно idf, как вес.\n",
        "5. Сформировать на выходе единую таблицу, сравнивающую качество 3 разных метода получения эмбедингов пользователей: mean, median, max, idf_mean по метрикам roc_auc, precision, recall, f_score\n",
        "6. Сделать самостоятельные выводы и предположения о том, почему тот или ной способ оказался эффективнее остальных"
      ]
    },
    {
      "cell_type": "code",
      "metadata": {
        "id": "hfu9nd1zGkP_"
      },
      "source": [
        "import pandas as pd"
      ],
      "execution_count": 1,
      "outputs": []
    },
    {
      "cell_type": "markdown",
      "metadata": {
        "id": "k9k3jcjpGkP_"
      },
      "source": [
        "Новости"
      ]
    },
    {
      "cell_type": "code",
      "metadata": {
        "id": "BZyYRpZnGkP_",
        "colab": {
          "base_uri": "https://localhost:8080/",
          "height": 159
        },
        "outputId": "d6cd9d5e-c8de-44e7-e5f8-ede9b0640510"
      },
      "source": [
        "# news = pd.read_csv(\"articles.csv\")\n",
        "news = pd.read_csv(\"/content/sample_data/articles.csv\")\n",
        "\n",
        "print(news.shape)\n",
        "news.head(3)"
      ],
      "execution_count": 2,
      "outputs": [
        {
          "output_type": "stream",
          "name": "stdout",
          "text": [
            "(27000, 2)\n"
          ]
        },
        {
          "output_type": "execute_result",
          "data": {
            "text/html": [
              "<div>\n",
              "<style scoped>\n",
              "    .dataframe tbody tr th:only-of-type {\n",
              "        vertical-align: middle;\n",
              "    }\n",
              "\n",
              "    .dataframe tbody tr th {\n",
              "        vertical-align: top;\n",
              "    }\n",
              "\n",
              "    .dataframe thead th {\n",
              "        text-align: right;\n",
              "    }\n",
              "</style>\n",
              "<table border=\"1\" class=\"dataframe\">\n",
              "  <thead>\n",
              "    <tr style=\"text-align: right;\">\n",
              "      <th></th>\n",
              "      <th>doc_id</th>\n",
              "      <th>title</th>\n",
              "    </tr>\n",
              "  </thead>\n",
              "  <tbody>\n",
              "    <tr>\n",
              "      <th>0</th>\n",
              "      <td>6</td>\n",
              "      <td>Заместитель председателяnправительства РФnСерг...</td>\n",
              "    </tr>\n",
              "    <tr>\n",
              "      <th>1</th>\n",
              "      <td>4896</td>\n",
              "      <td>Матч 1/16 финала Кубка России по футболу был п...</td>\n",
              "    </tr>\n",
              "    <tr>\n",
              "      <th>2</th>\n",
              "      <td>4897</td>\n",
              "      <td>Форвард «Авангарда» Томаш Заборский прокоммент...</td>\n",
              "    </tr>\n",
              "  </tbody>\n",
              "</table>\n",
              "</div>"
            ],
            "text/plain": [
              "   doc_id                                              title\n",
              "0       6  Заместитель председателяnправительства РФnСерг...\n",
              "1    4896  Матч 1/16 финала Кубка России по футболу был п...\n",
              "2    4897  Форвард «Авангарда» Томаш Заборский прокоммент..."
            ]
          },
          "metadata": {},
          "execution_count": 2
        }
      ]
    },
    {
      "cell_type": "markdown",
      "metadata": {
        "id": "Y_CQZRj2GkQA"
      },
      "source": [
        "Пользователи"
      ]
    },
    {
      "cell_type": "code",
      "metadata": {
        "id": "K0ykg5GNGkQA",
        "colab": {
          "base_uri": "https://localhost:8080/",
          "height": 142
        },
        "outputId": "90a245ac-71b7-44bf-b1f1-9dfc6f72574b"
      },
      "source": [
        "# users = pd.read_csv(\"users_articles.csv\")\n",
        "users = pd.read_csv(\"/content/sample_data/users_articles.csv\")\n",
        "users.head(3)"
      ],
      "execution_count": 3,
      "outputs": [
        {
          "output_type": "execute_result",
          "data": {
            "text/html": [
              "<div>\n",
              "<style scoped>\n",
              "    .dataframe tbody tr th:only-of-type {\n",
              "        vertical-align: middle;\n",
              "    }\n",
              "\n",
              "    .dataframe tbody tr th {\n",
              "        vertical-align: top;\n",
              "    }\n",
              "\n",
              "    .dataframe thead th {\n",
              "        text-align: right;\n",
              "    }\n",
              "</style>\n",
              "<table border=\"1\" class=\"dataframe\">\n",
              "  <thead>\n",
              "    <tr style=\"text-align: right;\">\n",
              "      <th></th>\n",
              "      <th>uid</th>\n",
              "      <th>articles</th>\n",
              "    </tr>\n",
              "  </thead>\n",
              "  <tbody>\n",
              "    <tr>\n",
              "      <th>0</th>\n",
              "      <td>u105138</td>\n",
              "      <td>[293672, 293328, 293001, 293622, 293126, 1852]</td>\n",
              "    </tr>\n",
              "    <tr>\n",
              "      <th>1</th>\n",
              "      <td>u108690</td>\n",
              "      <td>[3405, 1739, 2972, 1158, 1599, 322665]</td>\n",
              "    </tr>\n",
              "    <tr>\n",
              "      <th>2</th>\n",
              "      <td>u108339</td>\n",
              "      <td>[1845, 2009, 2356, 1424, 2939, 323389]</td>\n",
              "    </tr>\n",
              "  </tbody>\n",
              "</table>\n",
              "</div>"
            ],
            "text/plain": [
              "       uid                                        articles\n",
              "0  u105138  [293672, 293328, 293001, 293622, 293126, 1852]\n",
              "1  u108690          [3405, 1739, 2972, 1158, 1599, 322665]\n",
              "2  u108339          [1845, 2009, 2356, 1424, 2939, 323389]"
            ]
          },
          "metadata": {},
          "execution_count": 3
        }
      ]
    },
    {
      "cell_type": "markdown",
      "metadata": {
        "id": "4wBoveNfGkQA"
      },
      "source": [
        "Получаем векторные представления новостей"
      ]
    },
    {
      "cell_type": "code",
      "metadata": {
        "id": "_27QLD7vGkQA"
      },
      "source": [
        "from gensim.test.utils import common_texts\n",
        "from gensim.corpora.dictionary import Dictionary"
      ],
      "execution_count": 4,
      "outputs": []
    },
    {
      "cell_type": "code",
      "metadata": {
        "id": "Hit-y9wFO7GT",
        "colab": {
          "base_uri": "https://localhost:8080/"
        },
        "outputId": "14544fd2-c7b4-43bc-bbae-93a8f0722c5b"
      },
      "source": [
        "!pip install razdel"
      ],
      "execution_count": 5,
      "outputs": [
        {
          "output_type": "stream",
          "name": "stdout",
          "text": [
            "Collecting razdel\n",
            "  Downloading razdel-0.5.0-py3-none-any.whl (21 kB)\n",
            "Installing collected packages: razdel\n",
            "Successfully installed razdel-0.5.0\n"
          ]
        }
      ]
    },
    {
      "cell_type": "code",
      "metadata": {
        "id": "ssabRehlPBB_",
        "colab": {
          "base_uri": "https://localhost:8080/"
        },
        "outputId": "9f3a1095-924a-4bfa-d441-a7d4d804ba83"
      },
      "source": [
        "!pip install pymorphy2"
      ],
      "execution_count": 6,
      "outputs": [
        {
          "output_type": "stream",
          "name": "stdout",
          "text": [
            "Collecting pymorphy2\n",
            "  Downloading pymorphy2-0.9.1-py3-none-any.whl (55 kB)\n",
            "\u001b[?25l\r\u001b[K     |██████                          | 10 kB 28.0 MB/s eta 0:00:01\r\u001b[K     |███████████▉                    | 20 kB 36.1 MB/s eta 0:00:01\r\u001b[K     |█████████████████▊              | 30 kB 36.7 MB/s eta 0:00:01\r\u001b[K     |███████████████████████▋        | 40 kB 24.4 MB/s eta 0:00:01\r\u001b[K     |█████████████████████████████▌  | 51 kB 18.8 MB/s eta 0:00:01\r\u001b[K     |████████████████████████████████| 55 kB 2.9 MB/s \n",
            "\u001b[?25hCollecting dawg-python>=0.7.1\n",
            "  Downloading DAWG_Python-0.7.2-py2.py3-none-any.whl (11 kB)\n",
            "Collecting pymorphy2-dicts-ru<3.0,>=2.4\n",
            "  Downloading pymorphy2_dicts_ru-2.4.417127.4579844-py2.py3-none-any.whl (8.2 MB)\n",
            "\u001b[K     |████████████████████████████████| 8.2 MB 33.8 MB/s \n",
            "\u001b[?25hRequirement already satisfied: docopt>=0.6 in /usr/local/lib/python3.7/dist-packages (from pymorphy2) (0.6.2)\n",
            "Installing collected packages: pymorphy2-dicts-ru, dawg-python, pymorphy2\n",
            "Successfully installed dawg-python-0.7.2 pymorphy2-0.9.1 pymorphy2-dicts-ru-2.4.417127.4579844\n"
          ]
        }
      ]
    },
    {
      "cell_type": "code",
      "metadata": {
        "id": "IPs9IzNaGkQA"
      },
      "source": [
        "#предобработка текстов\n",
        "import re\n",
        "import numpy as np\n",
        "from nltk.corpus import stopwords\n",
        "#from nltk.tokenize import word_tokenize\n",
        "\n",
        "from razdel import tokenize # https://github.com/natasha/razdel\n",
        "#!pip install razdel\n",
        "\n",
        "import pymorphy2  # pip install pymorphy2"
      ],
      "execution_count": 7,
      "outputs": []
    },
    {
      "cell_type": "code",
      "metadata": {
        "id": "m6v_do8MGkQA",
        "colab": {
          "base_uri": "https://localhost:8080/"
        },
        "outputId": "d42bef74-23f3-408b-a445-c8eb5e4b377a"
      },
      "source": [
        "import nltk\n",
        "nltk.download('stopwords')\n",
        "stopword_ru = stopwords.words('russian')\n",
        "len(stopword_ru)\n",
        "\n",
        "morph = pymorphy2.MorphAnalyzer()"
      ],
      "execution_count": 8,
      "outputs": [
        {
          "output_type": "stream",
          "name": "stdout",
          "text": [
            "[nltk_data] Downloading package stopwords to /root/nltk_data...\n",
            "[nltk_data]   Unzipping corpora/stopwords.zip.\n"
          ]
        }
      ]
    },
    {
      "cell_type": "code",
      "metadata": {
        "id": "FiDtbIUXGkQA",
        "colab": {
          "base_uri": "https://localhost:8080/"
        },
        "outputId": "dfbd70e2-02ba-49ea-ebaa-166b3a14de15"
      },
      "source": [
        "# with open('stopwords.txt') as f:\n",
        "with open('/content/sample_data/stopwords.txt') as f:\n",
        "    additional_stopwords = [w.strip() for w in f.readlines() if w]\n",
        "stopword_ru += additional_stopwords\n",
        "len(stopword_ru)"
      ],
      "execution_count": 9,
      "outputs": [
        {
          "output_type": "execute_result",
          "data": {
            "text/plain": [
              "776"
            ]
          },
          "metadata": {},
          "execution_count": 9
        }
      ]
    },
    {
      "cell_type": "code",
      "metadata": {
        "id": "Aw05yom3GkQA"
      },
      "source": [
        "def clean_text(text):\n",
        "    '''\n",
        "    очистка текста\n",
        "    \n",
        "    на выходе очищеный текст\n",
        "    \n",
        "    '''\n",
        "    if not isinstance(text, str):\n",
        "        text = str(text)\n",
        "    \n",
        "    text = text.lower()\n",
        "    text = text.strip('\\n').strip('\\r').strip('\\t')\n",
        "    text = re.sub(\"-\\s\\r\\n\\|-\\s\\r\\n|\\r\\n\", '', str(text))\n",
        "\n",
        "    text = re.sub(\"[0-9]|[-—.,:;_%©«»?*!@#№$^•·&()]|[+=]|[[]|[]]|[/]|\", '', text)\n",
        "    text = re.sub(r\"\\r\\n\\t|\\n|\\\\s|\\r\\t|\\\\n\", ' ', text)\n",
        "    text = re.sub(r'[\\xad]|[\\s+]', ' ', text.strip())\n",
        "    \n",
        "    #tokens = list(tokenize(text))\n",
        "    #words = [_.text for _ in tokens]\n",
        "    #words = [w for w in words if w not in stopword_ru]\n",
        "    \n",
        "    #return \" \".join(words)\n",
        "    return text\n",
        "\n",
        "cache = {}\n",
        "\n",
        "def lemmatization(text):\n",
        "    '''\n",
        "    лемматизация\n",
        "        [0] если зашел тип не `str` делаем его `str`\n",
        "        [1] токенизация предложения через razdel\n",
        "        [2] проверка есть ли в начале слова '-'\n",
        "        [3] проверка токена с одного символа\n",
        "        [4] проверка есть ли данное слово в кэше\n",
        "        [5] лемматизация слова\n",
        "        [6] проверка на стоп-слова\n",
        "\n",
        "    на выходе лист отлемматизированых токенов\n",
        "    '''\n",
        "\n",
        "    # [0]\n",
        "    if not isinstance(text, str):\n",
        "        text = str(text)\n",
        "    \n",
        "    # [1]\n",
        "    tokens = list(tokenize(text))\n",
        "    words = [_.text for _ in tokens]\n",
        "\n",
        "    words_lem = []\n",
        "    for w in words:\n",
        "        if w[0] == '-': # [2]\n",
        "            w = w[1:]\n",
        "        if len(w)>1: # [3]\n",
        "            if w in cache: # [4]\n",
        "                words_lem.append(cache[w])\n",
        "            else: # [5]\n",
        "                temp_cach = cache[w] = morph.parse(w)[0].normal_form\n",
        "                words_lem.append(temp_cach)\n",
        "    \n",
        "    words_lem_without_stopwords=[i for i in words_lem if not i in stopword_ru] # [6]\n",
        "    \n",
        "    return words_lem_without_stopwords"
      ],
      "execution_count": 10,
      "outputs": []
    },
    {
      "cell_type": "code",
      "metadata": {
        "id": "zw3gIB8EGkQB",
        "scrolled": true,
        "colab": {
          "base_uri": "https://localhost:8080/"
        },
        "outputId": "cf5470ae-e4ea-4e53-c4aa-5b35a2469c4b"
      },
      "source": [
        "%%time\n",
        "# Запускаем очистку текста. Будет долго...\n",
        "news['title'] = news['title'].apply(lambda x: clean_text(x), 1)"
      ],
      "execution_count": 11,
      "outputs": [
        {
          "output_type": "stream",
          "name": "stderr",
          "text": [
            "/usr/local/lib/python3.7/dist-packages/ipykernel_launcher.py:15: FutureWarning: Possible nested set at position 39\n",
            "  from ipykernel import kernelapp as app\n"
          ]
        },
        {
          "output_type": "stream",
          "name": "stdout",
          "text": [
            "CPU times: user 23.1 s, sys: 1.2 s, total: 24.3 s\n",
            "Wall time: 24.3 s\n"
          ]
        }
      ]
    },
    {
      "cell_type": "code",
      "metadata": {
        "id": "D88KrkGMGkQB",
        "colab": {
          "base_uri": "https://localhost:8080/"
        },
        "outputId": "417c0356-e621-4cef-8b90-a30944a1cfb1"
      },
      "source": [
        "%%time\n",
        "#Запускаем лемматизацию текста. Будет очень долго...\n",
        "news['title'] = news['title'].apply(lambda x: lemmatization(x), 1)"
      ],
      "execution_count": 12,
      "outputs": [
        {
          "output_type": "stream",
          "name": "stdout",
          "text": [
            "CPU times: user 3min 41s, sys: 623 ms, total: 3min 41s\n",
            "Wall time: 3min 41s\n"
          ]
        }
      ]
    },
    {
      "cell_type": "markdown",
      "metadata": {
        "id": "Gx-HQQDjGkQB"
      },
      "source": [
        "А теперь в 3 строчки обучим нашу модель"
      ]
    },
    {
      "cell_type": "code",
      "metadata": {
        "id": "PyDKqD1IGkQB",
        "colab": {
          "base_uri": "https://localhost:8080/"
        },
        "outputId": "c1d6feb5-fdfb-40a7-b2d6-7be3d9e00ca4"
      },
      "source": [
        "news['title']"
      ],
      "execution_count": 13,
      "outputs": [
        {
          "output_type": "execute_result",
          "data": {
            "text/plain": [
              "0        [заместитель, председатель, правительство, рф,...\n",
              "1        [матч, финал, кубок, россия, футбол, приостано...\n",
              "2        [форвард, авангард, томаш, заборский, прокомме...\n",
              "3        [главный, тренер, кубань, юрий, красножанин, п...\n",
              "4        [решение, попечительский, совет, владивостокск...\n",
              "                               ...                        \n",
              "26995    [учёный, токийский, университет, морской, наук...\n",
              "26996    [глава, кафедра, отечественный, история, xx, в...\n",
              "26997    [американский, учёный, уточнить, возраст, расп...\n",
              "26998    [последний, тропический, углеродный, цикл, чув...\n",
              "26999    [жить, примерно, тыс, назад, территория, совре...\n",
              "Name: title, Length: 27000, dtype: object"
            ]
          },
          "metadata": {},
          "execution_count": 13
        }
      ]
    },
    {
      "cell_type": "code",
      "metadata": {
        "id": "fWNN0d6CGkQB"
      },
      "source": [
        "#сформируем список наших текстов, разбив еще и на пробелы\n",
        "texts = [t for t in news['title'].values]\n",
        "\n",
        "# Create a corpus from a list of texts\n",
        "common_dictionary = Dictionary(texts)\n",
        "common_corpus = [common_dictionary.doc2bow(text) for text in texts]"
      ],
      "execution_count": 14,
      "outputs": []
    },
    {
      "cell_type": "markdown",
      "metadata": {
        "id": "cVY9JVAHGkQC"
      },
      "source": [
        "Запускаем обучение"
      ]
    },
    {
      "cell_type": "code",
      "metadata": {
        "id": "Q1xWU3gZGkQC",
        "colab": {
          "base_uri": "https://localhost:8080/"
        },
        "outputId": "c62cd6e1-b410-4b12-91d0-575e23f782b9"
      },
      "source": [
        "%%time\n",
        "from gensim.models import LdaModel\n",
        "# Train the model on the corpus.\n",
        "lda = LdaModel(common_corpus, num_topics=25, id2word=common_dictionary)#, passes=10)"
      ],
      "execution_count": 15,
      "outputs": [
        {
          "output_type": "stream",
          "name": "stdout",
          "text": [
            "CPU times: user 41.7 s, sys: 19.3 s, total: 1min\n",
            "Wall time: 39.1 s\n"
          ]
        }
      ]
    },
    {
      "cell_type": "code",
      "metadata": {
        "id": "-_Us5dQuGkQC"
      },
      "source": [
        "from gensim.test.utils import datapath\n",
        "# Save model to disk.\n",
        "temp_file = datapath(\"model.lda\")\n",
        "lda.save(temp_file)\n",
        "\n",
        "# Load a potentially pretrained model from disk.\n",
        "lda = LdaModel.load(temp_file)"
      ],
      "execution_count": 16,
      "outputs": []
    },
    {
      "cell_type": "markdown",
      "metadata": {
        "id": "sYr2gE28GkQC"
      },
      "source": [
        "Обучили модель"
      ]
    },
    {
      "cell_type": "code",
      "metadata": {
        "id": "wNSiad_KGkQC",
        "colab": {
          "base_uri": "https://localhost:8080/"
        },
        "outputId": "844c9174-0825-492e-b838-3183815c23e1"
      },
      "source": [
        "# Create a new corpus, made of previously unseen documents.\n",
        "other_texts = [t for t in news['title'].iloc[:3]]\n",
        "other_corpus = [common_dictionary.doc2bow(text) for text in other_texts]\n",
        "\n",
        "unseen_doc = other_corpus[2]\n",
        "print(other_texts[2])\n",
        "lda[unseen_doc] "
      ],
      "execution_count": 17,
      "outputs": [
        {
          "output_type": "stream",
          "name": "stdout",
          "text": [
            "['форвард', 'авангард', 'томаш', 'заборский', 'прокомментировать', 'игра', 'команда', 'матч', 'чемпионат', 'кхл', 'против', 'атланта', 'nnnn', 'плохой', 'матч', 'нижний', 'новгород', 'против', 'торпедо', 'настраиваться', 'первый', 'минута', 'включиться', 'заборский', 'получиться', 'забросить', 'быстрый', 'гол', 'задать', 'хороший', 'темп', 'поединок', 'играть', 'хороший', 'сторона', 'пять', 'очко', 'выезд', 'девять', 'хороший']\n"
          ]
        },
        {
          "output_type": "execute_result",
          "data": {
            "text/plain": [
              "[(3, 0.20975357),\n",
              " (6, 0.05789488),\n",
              " (11, 0.14307183),\n",
              " (15, 0.2746022),\n",
              " (17, 0.12160133),\n",
              " (22, 0.1745396)]"
            ]
          },
          "metadata": {},
          "execution_count": 17
        }
      ]
    },
    {
      "cell_type": "code",
      "metadata": {
        "id": "o2nM7PCfGkQC",
        "colab": {
          "base_uri": "https://localhost:8080/"
        },
        "outputId": "bfdf9a1c-8ebc-4330-c787-3f574f141019"
      },
      "source": [
        "x=lda.show_topics(num_topics=25, num_words=7,formatted=False)\n",
        "topics_words = [(tp[0], [wd[0] for wd in tp[1]]) for tp in x]\n",
        "\n",
        "#Below Code Prints Only Words \n",
        "for topic,words in topics_words:\n",
        "    print(\"topic_{}: \".format(topic)+\" \".join(words))"
      ],
      "execution_count": 18,
      "outputs": [
        {
          "output_type": "stream",
          "name": "stdout",
          "text": [
            "topic_0: век фестиваль ген мероприятие лаборатория фильм книга\n",
            "topic_1: статья обнаружить рубль тыс налог ребёнок банк\n",
            "topic_2: управление помощь агентство совет запуск россия nn\n",
            "topic_3: наука система взрыв температура поверхность эксперимент всё\n",
            "topic_4: российский россия вопрос проблема всё государство глава\n",
            "topic_5: гражданин nn население район ребёнок пострадать журнал\n",
            "topic_6: писать женщина мужчина иск nn городской снег\n",
            "topic_7: доллар журнал животное пациент исследование северный клетка\n",
            "topic_8: телескоп стоимость nn археолог необычный индия nthe\n",
            "topic_9: ракета китай орбита проверка китайский пуск японский\n",
            "topic_10: самолёт полёт спутник война нефть территория произойти\n",
            "topic_11: украина отряд nn современный фрагмент русский гость\n",
            "topic_12: исследователь nn путин заболевание болезнь nnn препарат\n",
            "topic_13: область москва россия регион снижение объект строительство\n",
            "topic_14: газ погибнуть украина пенсия египет жертва украинский\n",
            "topic_15: кость звезда полоса хороший летний растение новый\n",
            "topic_16: nn мозг учёный форум мкс астероид американский\n",
            "topic_17: сша власть россия американский санкция сотрудник российский\n",
            "topic_18: банк россия корабль экипаж рак белоруссия украина\n",
            "topic_19: учёный исследование научный экономика всё жизнь земля\n",
            "topic_20: знаменитый автор мозг геном определение научный первый\n",
            "topic_21: млн млрд цена тыс руб рубль рост\n",
            "topic_22: россия рынок украина эксперт объём товар спрос\n",
            "topic_23: военный россия восток сша километр армия район\n",
            "topic_24: расчёт применение след иран блок ветер польша\n"
          ]
        }
      ]
    },
    {
      "cell_type": "markdown",
      "metadata": {
        "id": "pPv5rfJ9GkQC"
      },
      "source": [
        "Функция, которая будет возвращать векторное представление новости"
      ]
    },
    {
      "cell_type": "code",
      "metadata": {
        "id": "IZXS_Qt8GkQD"
      },
      "source": [
        "# text = news['title'].iloc[0]\n",
        "\n",
        "def get_lda_vector(text):\n",
        "    unseen_doc = common_dictionary.doc2bow(text)\n",
        "    lda_tuple = lda[unseen_doc]\n",
        "    not_null_topics = dict(zip([i[0] for i in lda_tuple], [i[1] for i in lda_tuple]))\n",
        "\n",
        "    output_vector = []\n",
        "    for i in range(25):\n",
        "        if i not in not_null_topics:\n",
        "            output_vector.append(0)\n",
        "        else:\n",
        "            output_vector.append(not_null_topics[i])\n",
        "    return np.array(output_vector)"
      ],
      "execution_count": 19,
      "outputs": []
    },
    {
      "cell_type": "code",
      "metadata": {
        "id": "B8KV4IAcGkQD",
        "colab": {
          "base_uri": "https://localhost:8080/",
          "height": 224
        },
        "outputId": "fe880a97-0308-45fb-de3d-b41fd46730b0"
      },
      "source": [
        "topic_matrix = pd.DataFrame([get_lda_vector(text) for text in news['title'].values])\n",
        "topic_matrix.columns = ['topic_{}'.format(i) for i in range(25)]\n",
        "topic_matrix['doc_id'] = news['doc_id'].values\n",
        "topic_matrix = topic_matrix[['doc_id']+['topic_{}'.format(i) for i in range(25)]]\n",
        "topic_matrix.head(5)"
      ],
      "execution_count": 20,
      "outputs": [
        {
          "output_type": "execute_result",
          "data": {
            "text/html": [
              "<div>\n",
              "<style scoped>\n",
              "    .dataframe tbody tr th:only-of-type {\n",
              "        vertical-align: middle;\n",
              "    }\n",
              "\n",
              "    .dataframe tbody tr th {\n",
              "        vertical-align: top;\n",
              "    }\n",
              "\n",
              "    .dataframe thead th {\n",
              "        text-align: right;\n",
              "    }\n",
              "</style>\n",
              "<table border=\"1\" class=\"dataframe\">\n",
              "  <thead>\n",
              "    <tr style=\"text-align: right;\">\n",
              "      <th></th>\n",
              "      <th>doc_id</th>\n",
              "      <th>topic_0</th>\n",
              "      <th>topic_1</th>\n",
              "      <th>topic_2</th>\n",
              "      <th>topic_3</th>\n",
              "      <th>topic_4</th>\n",
              "      <th>topic_5</th>\n",
              "      <th>topic_6</th>\n",
              "      <th>topic_7</th>\n",
              "      <th>topic_8</th>\n",
              "      <th>topic_9</th>\n",
              "      <th>topic_10</th>\n",
              "      <th>topic_11</th>\n",
              "      <th>topic_12</th>\n",
              "      <th>topic_13</th>\n",
              "      <th>topic_14</th>\n",
              "      <th>topic_15</th>\n",
              "      <th>topic_16</th>\n",
              "      <th>topic_17</th>\n",
              "      <th>topic_18</th>\n",
              "      <th>topic_19</th>\n",
              "      <th>topic_20</th>\n",
              "      <th>topic_21</th>\n",
              "      <th>topic_22</th>\n",
              "      <th>topic_23</th>\n",
              "      <th>topic_24</th>\n",
              "    </tr>\n",
              "  </thead>\n",
              "  <tbody>\n",
              "    <tr>\n",
              "      <th>0</th>\n",
              "      <td>6</td>\n",
              "      <td>0.0</td>\n",
              "      <td>0.0</td>\n",
              "      <td>0.000000</td>\n",
              "      <td>0.000000</td>\n",
              "      <td>0.000000</td>\n",
              "      <td>0.0</td>\n",
              "      <td>0.000000</td>\n",
              "      <td>0.0</td>\n",
              "      <td>0.0</td>\n",
              "      <td>0.0</td>\n",
              "      <td>0.0</td>\n",
              "      <td>0.000000</td>\n",
              "      <td>0.000000</td>\n",
              "      <td>0.058335</td>\n",
              "      <td>0.0</td>\n",
              "      <td>0.000000</td>\n",
              "      <td>0.000000</td>\n",
              "      <td>0.000000</td>\n",
              "      <td>0.914541</td>\n",
              "      <td>0.000000</td>\n",
              "      <td>0.000000</td>\n",
              "      <td>0.0</td>\n",
              "      <td>0.000000</td>\n",
              "      <td>0.000000</td>\n",
              "      <td>0.019729</td>\n",
              "    </tr>\n",
              "    <tr>\n",
              "      <th>1</th>\n",
              "      <td>4896</td>\n",
              "      <td>0.0</td>\n",
              "      <td>0.0</td>\n",
              "      <td>0.000000</td>\n",
              "      <td>0.976585</td>\n",
              "      <td>0.000000</td>\n",
              "      <td>0.0</td>\n",
              "      <td>0.000000</td>\n",
              "      <td>0.0</td>\n",
              "      <td>0.0</td>\n",
              "      <td>0.0</td>\n",
              "      <td>0.0</td>\n",
              "      <td>0.000000</td>\n",
              "      <td>0.000000</td>\n",
              "      <td>0.000000</td>\n",
              "      <td>0.0</td>\n",
              "      <td>0.000000</td>\n",
              "      <td>0.000000</td>\n",
              "      <td>0.000000</td>\n",
              "      <td>0.000000</td>\n",
              "      <td>0.000000</td>\n",
              "      <td>0.000000</td>\n",
              "      <td>0.0</td>\n",
              "      <td>0.000000</td>\n",
              "      <td>0.000000</td>\n",
              "      <td>0.000000</td>\n",
              "    </tr>\n",
              "    <tr>\n",
              "      <th>2</th>\n",
              "      <td>4897</td>\n",
              "      <td>0.0</td>\n",
              "      <td>0.0</td>\n",
              "      <td>0.000000</td>\n",
              "      <td>0.209734</td>\n",
              "      <td>0.000000</td>\n",
              "      <td>0.0</td>\n",
              "      <td>0.057910</td>\n",
              "      <td>0.0</td>\n",
              "      <td>0.0</td>\n",
              "      <td>0.0</td>\n",
              "      <td>0.0</td>\n",
              "      <td>0.143068</td>\n",
              "      <td>0.000000</td>\n",
              "      <td>0.000000</td>\n",
              "      <td>0.0</td>\n",
              "      <td>0.274627</td>\n",
              "      <td>0.000000</td>\n",
              "      <td>0.121625</td>\n",
              "      <td>0.000000</td>\n",
              "      <td>0.000000</td>\n",
              "      <td>0.000000</td>\n",
              "      <td>0.0</td>\n",
              "      <td>0.174499</td>\n",
              "      <td>0.000000</td>\n",
              "      <td>0.000000</td>\n",
              "    </tr>\n",
              "    <tr>\n",
              "      <th>3</th>\n",
              "      <td>4898</td>\n",
              "      <td>0.0</td>\n",
              "      <td>0.0</td>\n",
              "      <td>0.000000</td>\n",
              "      <td>0.243589</td>\n",
              "      <td>0.054683</td>\n",
              "      <td>0.0</td>\n",
              "      <td>0.000000</td>\n",
              "      <td>0.0</td>\n",
              "      <td>0.0</td>\n",
              "      <td>0.0</td>\n",
              "      <td>0.0</td>\n",
              "      <td>0.000000</td>\n",
              "      <td>0.000000</td>\n",
              "      <td>0.000000</td>\n",
              "      <td>0.0</td>\n",
              "      <td>0.000000</td>\n",
              "      <td>0.051228</td>\n",
              "      <td>0.000000</td>\n",
              "      <td>0.000000</td>\n",
              "      <td>0.088696</td>\n",
              "      <td>0.040372</td>\n",
              "      <td>0.0</td>\n",
              "      <td>0.080566</td>\n",
              "      <td>0.432295</td>\n",
              "      <td>0.000000</td>\n",
              "    </tr>\n",
              "    <tr>\n",
              "      <th>4</th>\n",
              "      <td>4899</td>\n",
              "      <td>0.0</td>\n",
              "      <td>0.0</td>\n",
              "      <td>0.254458</td>\n",
              "      <td>0.000000</td>\n",
              "      <td>0.000000</td>\n",
              "      <td>0.0</td>\n",
              "      <td>0.330719</td>\n",
              "      <td>0.0</td>\n",
              "      <td>0.0</td>\n",
              "      <td>0.0</td>\n",
              "      <td>0.0</td>\n",
              "      <td>0.000000</td>\n",
              "      <td>0.233227</td>\n",
              "      <td>0.000000</td>\n",
              "      <td>0.0</td>\n",
              "      <td>0.056593</td>\n",
              "      <td>0.000000</td>\n",
              "      <td>0.000000</td>\n",
              "      <td>0.103382</td>\n",
              "      <td>0.000000</td>\n",
              "      <td>0.000000</td>\n",
              "      <td>0.0</td>\n",
              "      <td>0.000000</td>\n",
              "      <td>0.000000</td>\n",
              "      <td>0.000000</td>\n",
              "    </tr>\n",
              "  </tbody>\n",
              "</table>\n",
              "</div>"
            ],
            "text/plain": [
              "   doc_id  topic_0  topic_1   topic_2  ...  topic_21  topic_22  topic_23  topic_24\n",
              "0       6      0.0      0.0  0.000000  ...       0.0  0.000000  0.000000  0.019729\n",
              "1    4896      0.0      0.0  0.000000  ...       0.0  0.000000  0.000000  0.000000\n",
              "2    4897      0.0      0.0  0.000000  ...       0.0  0.174499  0.000000  0.000000\n",
              "3    4898      0.0      0.0  0.000000  ...       0.0  0.080566  0.432295  0.000000\n",
              "4    4899      0.0      0.0  0.254458  ...       0.0  0.000000  0.000000  0.000000\n",
              "\n",
              "[5 rows x 26 columns]"
            ]
          },
          "metadata": {},
          "execution_count": 20
        }
      ]
    },
    {
      "cell_type": "markdown",
      "metadata": {
        "id": "-40jMuRtGkQD"
      },
      "source": [
        "### Следующий шаг - векторные представления пользователей"
      ]
    },
    {
      "cell_type": "code",
      "metadata": {
        "id": "01DVk715GkQD",
        "scrolled": true,
        "colab": {
          "base_uri": "https://localhost:8080/",
          "height": 142
        },
        "outputId": "d06c9282-aaeb-4074-f132-d930c3269556"
      },
      "source": [
        "users.head(3)"
      ],
      "execution_count": 21,
      "outputs": [
        {
          "output_type": "execute_result",
          "data": {
            "text/html": [
              "<div>\n",
              "<style scoped>\n",
              "    .dataframe tbody tr th:only-of-type {\n",
              "        vertical-align: middle;\n",
              "    }\n",
              "\n",
              "    .dataframe tbody tr th {\n",
              "        vertical-align: top;\n",
              "    }\n",
              "\n",
              "    .dataframe thead th {\n",
              "        text-align: right;\n",
              "    }\n",
              "</style>\n",
              "<table border=\"1\" class=\"dataframe\">\n",
              "  <thead>\n",
              "    <tr style=\"text-align: right;\">\n",
              "      <th></th>\n",
              "      <th>uid</th>\n",
              "      <th>articles</th>\n",
              "    </tr>\n",
              "  </thead>\n",
              "  <tbody>\n",
              "    <tr>\n",
              "      <th>0</th>\n",
              "      <td>u105138</td>\n",
              "      <td>[293672, 293328, 293001, 293622, 293126, 1852]</td>\n",
              "    </tr>\n",
              "    <tr>\n",
              "      <th>1</th>\n",
              "      <td>u108690</td>\n",
              "      <td>[3405, 1739, 2972, 1158, 1599, 322665]</td>\n",
              "    </tr>\n",
              "    <tr>\n",
              "      <th>2</th>\n",
              "      <td>u108339</td>\n",
              "      <td>[1845, 2009, 2356, 1424, 2939, 323389]</td>\n",
              "    </tr>\n",
              "  </tbody>\n",
              "</table>\n",
              "</div>"
            ],
            "text/plain": [
              "       uid                                        articles\n",
              "0  u105138  [293672, 293328, 293001, 293622, 293126, 1852]\n",
              "1  u108690          [3405, 1739, 2972, 1158, 1599, 322665]\n",
              "2  u108339          [1845, 2009, 2356, 1424, 2939, 323389]"
            ]
          },
          "metadata": {},
          "execution_count": 21
        }
      ]
    },
    {
      "cell_type": "code",
      "metadata": {
        "id": "8mOd0kPBGkQD"
      },
      "source": [
        "doc_dict = dict(zip(topic_matrix['doc_id'].values, topic_matrix[['topic_{}'.format(i) for i in range(25)]].values))"
      ],
      "execution_count": 22,
      "outputs": []
    },
    {
      "cell_type": "code",
      "metadata": {
        "id": "FR50pHD6GkQD",
        "colab": {
          "base_uri": "https://localhost:8080/"
        },
        "outputId": "4ae81851-57fc-42c7-f44e-2c1410e46a10"
      },
      "source": [
        "doc_dict[293622]"
      ],
      "execution_count": 23,
      "outputs": [
        {
          "output_type": "execute_result",
          "data": {
            "text/plain": [
              "array([0.03952138, 0.        , 0.        , 0.03314599, 0.04496963,\n",
              "       0.24539506, 0.        , 0.        , 0.        , 0.        ,\n",
              "       0.0277661 , 0.07834636, 0.05108757, 0.        , 0.01269971,\n",
              "       0.09336516, 0.        , 0.15564017, 0.        , 0.        ,\n",
              "       0.19715084, 0.        , 0.        , 0.01532061, 0.        ])"
            ]
          },
          "metadata": {},
          "execution_count": 23
        }
      ]
    },
    {
      "cell_type": "markdown",
      "metadata": {
        "id": "oTbraIfjbSxz"
      },
      "source": [
        "# Задания 2, 3 в одной функции\n",
        "2. Модифицировать код функции get_user_embedding таким образом, чтобы считалось не среднее (как в примере np.mean), а медиана. Применить такое преобразование к данным, обучить модель прогнозирования оттока и посчитать метрики качества и сохранить их: roc auc, precision/recall/f_score (для 3 последних - подобрать оптимальный порог с помощью precision_recall_curve, как это делалось на уроке)\n",
        "3. Повторить п.2, но используя уже не медиану, а max"
      ]
    },
    {
      "cell_type": "code",
      "metadata": {
        "id": "xNyvd_HvGkQD"
      },
      "source": [
        "user_articles_list = users['articles'].iloc[33]\n",
        "\n",
        "'''\n",
        "def get_user_embedding(user_articles_list):\n",
        "    user_articles_list = eval(user_articles_list)\n",
        "    user_vector = np.array([doc_dict[doc_id] for doc_id in user_articles_list])\n",
        "    user_vector = np.mean(user_vector, 0)\n",
        "    return user_vector\n",
        "'''\n",
        "\n",
        "def get_user_embedding(user_articles_list, func):\n",
        "    user_articles_list = eval(user_articles_list)\n",
        "    user_vector = np.array([doc_dict[doc_id] for doc_id in user_articles_list])\n",
        "    user_vector = func(user_vector, 0)\n",
        "    return user_vector"
      ],
      "execution_count": 24,
      "outputs": []
    },
    {
      "cell_type": "code",
      "metadata": {
        "id": "Xq5-drlza_8a",
        "colab": {
          "base_uri": "https://localhost:8080/"
        },
        "outputId": "0e593e34-7f82-4700-e9ac-0f9d780bd92e"
      },
      "source": [
        "get_user_embedding(user_articles_list, np.mean)"
      ],
      "execution_count": 25,
      "outputs": [
        {
          "output_type": "execute_result",
          "data": {
            "text/plain": [
              "array([0.        , 0.0069905 , 0.11380441, 0.02615606, 0.1169644 ,\n",
              "       0.04365564, 0.00215982, 0.04449932, 0.        , 0.01398826,\n",
              "       0.05650703, 0.        , 0.0541483 , 0.08562598, 0.00194295,\n",
              "       0.01073462, 0.00634325, 0.18880884, 0.06553726, 0.01097429,\n",
              "       0.        , 0.00623173, 0.05712461, 0.07424605, 0.0023232 ])"
            ]
          },
          "metadata": {},
          "execution_count": 25
        }
      ]
    },
    {
      "cell_type": "code",
      "metadata": {
        "id": "E_zlQSYcbe7N",
        "colab": {
          "base_uri": "https://localhost:8080/"
        },
        "outputId": "459f8885-3a26-48e6-e796-7bf89915c46a"
      },
      "source": [
        "get_user_embedding(user_articles_list, np.median)"
      ],
      "execution_count": 26,
      "outputs": [
        {
          "output_type": "execute_result",
          "data": {
            "text/plain": [
              "array([0.        , 0.        , 0.04131399, 0.02171387, 0.11862939,\n",
              "       0.00784383, 0.        , 0.        , 0.        , 0.        ,\n",
              "       0.        , 0.        , 0.02425551, 0.00575122, 0.        ,\n",
              "       0.        , 0.        , 0.13464824, 0.00926414, 0.        ,\n",
              "       0.        , 0.        , 0.02671223, 0.        , 0.        ])"
            ]
          },
          "metadata": {},
          "execution_count": 26
        }
      ]
    },
    {
      "cell_type": "code",
      "metadata": {
        "id": "OUWfWqnmbfKO",
        "colab": {
          "base_uri": "https://localhost:8080/"
        },
        "outputId": "23932589-f4dc-4f2a-e1e6-223b9ca6ba22"
      },
      "source": [
        "get_user_embedding(user_articles_list, np.max)"
      ],
      "execution_count": 27,
      "outputs": [
        {
          "output_type": "execute_result",
          "data": {
            "text/plain": [
              "array([0.        , 0.04194302, 0.43594736, 0.07886153, 0.27216837,\n",
              "       0.1898706 , 0.0129589 , 0.26699594, 0.        , 0.06229152,\n",
              "       0.22435138, 0.        , 0.24085188, 0.41113228, 0.01165771,\n",
              "       0.0644077 , 0.03805952, 0.43773758, 0.24333024, 0.03319292,\n",
              "       0.        , 0.0373904 , 0.23535651, 0.26427352, 0.01393919])"
            ]
          },
          "metadata": {},
          "execution_count": 27
        }
      ]
    },
    {
      "cell_type": "markdown",
      "metadata": {
        "id": "rHn52UkaGkQD"
      },
      "source": [
        "Теперь получим эмбединги для всех пользователей и проверим их качество на конкретной downstream-задаче"
      ]
    },
    {
      "cell_type": "code",
      "metadata": {
        "id": "An5oK5IYcbE9",
        "colab": {
          "base_uri": "https://localhost:8080/",
          "height": 69
        },
        "outputId": "35264a2e-a72a-4016-996e-98df952441d5"
      },
      "source": [
        "'''\n",
        "user_embeddings = pd.DataFrame([i for i in users['articles'].apply(lambda x: get_user_embedding(x), 1)])\n",
        "user_embeddings.columns = ['topic_{}'.format(i) for i in range(25)]\n",
        "user_embeddings['uid'] = users['uid'].values\n",
        "user_embeddings = user_embeddings[['uid']+['topic_{}'.format(i) for i in range(25)]]\n",
        "user_embeddings.head(3)\n",
        "'''"
      ],
      "execution_count": 28,
      "outputs": [
        {
          "output_type": "execute_result",
          "data": {
            "application/vnd.google.colaboratory.intrinsic+json": {
              "type": "string"
            },
            "text/plain": [
              "\"\\nuser_embeddings = pd.DataFrame([i for i in users['articles'].apply(lambda x: get_user_embedding(x), 1)])\\nuser_embeddings.columns = ['topic_{}'.format(i) for i in range(25)]\\nuser_embeddings['uid'] = users['uid'].values\\nuser_embeddings = user_embeddings[['uid']+['topic_{}'.format(i) for i in range(25)]]\\nuser_embeddings.head(3)\\n\""
            ]
          },
          "metadata": {},
          "execution_count": 28
        }
      ]
    },
    {
      "cell_type": "code",
      "metadata": {
        "id": "SNLgG3HbGkQD"
      },
      "source": [
        "# Оформим функцию для получения ембедингов для трех разных способов: mean, median, max\n",
        "def user_emb(func):\n",
        "    user_embeddings = pd.DataFrame([i for i in users['articles'].apply(lambda x: get_user_embedding(x, func), 1)])\n",
        "    user_embeddings.columns = ['topic_{}'.format(i) for i in range(25)]\n",
        "    user_embeddings['uid'] = users['uid'].values\n",
        "    user_embeddings = user_embeddings[['uid']+['topic_{}'.format(i) for i in range(25)]]\n",
        "    return user_embeddings"
      ],
      "execution_count": 29,
      "outputs": []
    },
    {
      "cell_type": "code",
      "metadata": {
        "id": "nJCv9aN1dGgt",
        "colab": {
          "base_uri": "https://localhost:8080/",
          "height": 162
        },
        "outputId": "88a75e37-f57f-45c3-d344-e93c6ac339db"
      },
      "source": [
        "user_embeddings_mean = user_emb(np.mean)\n",
        "user_embeddings_mean.head(3)"
      ],
      "execution_count": 30,
      "outputs": [
        {
          "output_type": "execute_result",
          "data": {
            "text/html": [
              "<div>\n",
              "<style scoped>\n",
              "    .dataframe tbody tr th:only-of-type {\n",
              "        vertical-align: middle;\n",
              "    }\n",
              "\n",
              "    .dataframe tbody tr th {\n",
              "        vertical-align: top;\n",
              "    }\n",
              "\n",
              "    .dataframe thead th {\n",
              "        text-align: right;\n",
              "    }\n",
              "</style>\n",
              "<table border=\"1\" class=\"dataframe\">\n",
              "  <thead>\n",
              "    <tr style=\"text-align: right;\">\n",
              "      <th></th>\n",
              "      <th>uid</th>\n",
              "      <th>topic_0</th>\n",
              "      <th>topic_1</th>\n",
              "      <th>topic_2</th>\n",
              "      <th>topic_3</th>\n",
              "      <th>topic_4</th>\n",
              "      <th>topic_5</th>\n",
              "      <th>topic_6</th>\n",
              "      <th>topic_7</th>\n",
              "      <th>topic_8</th>\n",
              "      <th>topic_9</th>\n",
              "      <th>topic_10</th>\n",
              "      <th>topic_11</th>\n",
              "      <th>topic_12</th>\n",
              "      <th>topic_13</th>\n",
              "      <th>topic_14</th>\n",
              "      <th>topic_15</th>\n",
              "      <th>topic_16</th>\n",
              "      <th>topic_17</th>\n",
              "      <th>topic_18</th>\n",
              "      <th>topic_19</th>\n",
              "      <th>topic_20</th>\n",
              "      <th>topic_21</th>\n",
              "      <th>topic_22</th>\n",
              "      <th>topic_23</th>\n",
              "      <th>topic_24</th>\n",
              "    </tr>\n",
              "  </thead>\n",
              "  <tbody>\n",
              "    <tr>\n",
              "      <th>0</th>\n",
              "      <td>u105138</td>\n",
              "      <td>0.039421</td>\n",
              "      <td>0.004016</td>\n",
              "      <td>0.058892</td>\n",
              "      <td>0.019831</td>\n",
              "      <td>0.059346</td>\n",
              "      <td>0.102464</td>\n",
              "      <td>0.038024</td>\n",
              "      <td>0.006081</td>\n",
              "      <td>0.019228</td>\n",
              "      <td>0.004957</td>\n",
              "      <td>0.038292</td>\n",
              "      <td>0.124141</td>\n",
              "      <td>0.040205</td>\n",
              "      <td>0.116246</td>\n",
              "      <td>0.041098</td>\n",
              "      <td>0.076709</td>\n",
              "      <td>0.021812</td>\n",
              "      <td>0.087759</td>\n",
              "      <td>0.006786</td>\n",
              "      <td>0.004048</td>\n",
              "      <td>0.039123</td>\n",
              "      <td>0.030638</td>\n",
              "      <td>0.000000</td>\n",
              "      <td>0.006797</td>\n",
              "      <td>0.000000</td>\n",
              "    </tr>\n",
              "    <tr>\n",
              "      <th>1</th>\n",
              "      <td>u108690</td>\n",
              "      <td>0.025265</td>\n",
              "      <td>0.043378</td>\n",
              "      <td>0.040027</td>\n",
              "      <td>0.022684</td>\n",
              "      <td>0.156532</td>\n",
              "      <td>0.039429</td>\n",
              "      <td>0.007351</td>\n",
              "      <td>0.005332</td>\n",
              "      <td>0.008540</td>\n",
              "      <td>0.000000</td>\n",
              "      <td>0.015232</td>\n",
              "      <td>0.038641</td>\n",
              "      <td>0.069077</td>\n",
              "      <td>0.046174</td>\n",
              "      <td>0.056634</td>\n",
              "      <td>0.000000</td>\n",
              "      <td>0.001794</td>\n",
              "      <td>0.186667</td>\n",
              "      <td>0.068459</td>\n",
              "      <td>0.065505</td>\n",
              "      <td>0.000000</td>\n",
              "      <td>0.032732</td>\n",
              "      <td>0.031780</td>\n",
              "      <td>0.023754</td>\n",
              "      <td>0.000000</td>\n",
              "    </tr>\n",
              "    <tr>\n",
              "      <th>2</th>\n",
              "      <td>u108339</td>\n",
              "      <td>0.007593</td>\n",
              "      <td>0.039758</td>\n",
              "      <td>0.143615</td>\n",
              "      <td>0.059629</td>\n",
              "      <td>0.061290</td>\n",
              "      <td>0.065871</td>\n",
              "      <td>0.009873</td>\n",
              "      <td>0.012610</td>\n",
              "      <td>0.002196</td>\n",
              "      <td>0.000000</td>\n",
              "      <td>0.057990</td>\n",
              "      <td>0.000000</td>\n",
              "      <td>0.009571</td>\n",
              "      <td>0.183143</td>\n",
              "      <td>0.038794</td>\n",
              "      <td>0.002984</td>\n",
              "      <td>0.023504</td>\n",
              "      <td>0.151393</td>\n",
              "      <td>0.065648</td>\n",
              "      <td>0.011034</td>\n",
              "      <td>0.000000</td>\n",
              "      <td>0.008441</td>\n",
              "      <td>0.004643</td>\n",
              "      <td>0.017616</td>\n",
              "      <td>0.002523</td>\n",
              "    </tr>\n",
              "  </tbody>\n",
              "</table>\n",
              "</div>"
            ],
            "text/plain": [
              "       uid   topic_0   topic_1  ...  topic_22  topic_23  topic_24\n",
              "0  u105138  0.039421  0.004016  ...  0.000000  0.006797  0.000000\n",
              "1  u108690  0.025265  0.043378  ...  0.031780  0.023754  0.000000\n",
              "2  u108339  0.007593  0.039758  ...  0.004643  0.017616  0.002523\n",
              "\n",
              "[3 rows x 26 columns]"
            ]
          },
          "metadata": {},
          "execution_count": 30
        }
      ]
    },
    {
      "cell_type": "code",
      "metadata": {
        "id": "5MN0mWCrdIV5",
        "colab": {
          "base_uri": "https://localhost:8080/",
          "height": 162
        },
        "outputId": "cc2a0720-90fb-49e1-eb24-cfa6fef79960"
      },
      "source": [
        "user_embeddings_median = user_emb(np.median)\n",
        "user_embeddings_median.head(3)"
      ],
      "execution_count": 31,
      "outputs": [
        {
          "output_type": "execute_result",
          "data": {
            "text/html": [
              "<div>\n",
              "<style scoped>\n",
              "    .dataframe tbody tr th:only-of-type {\n",
              "        vertical-align: middle;\n",
              "    }\n",
              "\n",
              "    .dataframe tbody tr th {\n",
              "        vertical-align: top;\n",
              "    }\n",
              "\n",
              "    .dataframe thead th {\n",
              "        text-align: right;\n",
              "    }\n",
              "</style>\n",
              "<table border=\"1\" class=\"dataframe\">\n",
              "  <thead>\n",
              "    <tr style=\"text-align: right;\">\n",
              "      <th></th>\n",
              "      <th>uid</th>\n",
              "      <th>topic_0</th>\n",
              "      <th>topic_1</th>\n",
              "      <th>topic_2</th>\n",
              "      <th>topic_3</th>\n",
              "      <th>topic_4</th>\n",
              "      <th>topic_5</th>\n",
              "      <th>topic_6</th>\n",
              "      <th>topic_7</th>\n",
              "      <th>topic_8</th>\n",
              "      <th>topic_9</th>\n",
              "      <th>topic_10</th>\n",
              "      <th>topic_11</th>\n",
              "      <th>topic_12</th>\n",
              "      <th>topic_13</th>\n",
              "      <th>topic_14</th>\n",
              "      <th>topic_15</th>\n",
              "      <th>topic_16</th>\n",
              "      <th>topic_17</th>\n",
              "      <th>topic_18</th>\n",
              "      <th>topic_19</th>\n",
              "      <th>topic_20</th>\n",
              "      <th>topic_21</th>\n",
              "      <th>topic_22</th>\n",
              "      <th>topic_23</th>\n",
              "      <th>topic_24</th>\n",
              "    </tr>\n",
              "  </thead>\n",
              "  <tbody>\n",
              "    <tr>\n",
              "      <th>0</th>\n",
              "      <td>u105138</td>\n",
              "      <td>0.019211</td>\n",
              "      <td>0.000000</td>\n",
              "      <td>0.000000</td>\n",
              "      <td>0.000000</td>\n",
              "      <td>0.062463</td>\n",
              "      <td>0.083474</td>\n",
              "      <td>0.006116</td>\n",
              "      <td>0.000000</td>\n",
              "      <td>0.0</td>\n",
              "      <td>0.0</td>\n",
              "      <td>0.013883</td>\n",
              "      <td>0.039173</td>\n",
              "      <td>0.008062</td>\n",
              "      <td>0.084000</td>\n",
              "      <td>0.021987</td>\n",
              "      <td>0.0</td>\n",
              "      <td>0.000000</td>\n",
              "      <td>0.082164</td>\n",
              "      <td>0.000000</td>\n",
              "      <td>0.000000</td>\n",
              "      <td>0.0</td>\n",
              "      <td>0.000000</td>\n",
              "      <td>0.000000</td>\n",
              "      <td>0.000000</td>\n",
              "      <td>0.0</td>\n",
              "    </tr>\n",
              "    <tr>\n",
              "      <th>1</th>\n",
              "      <td>u108690</td>\n",
              "      <td>0.019047</td>\n",
              "      <td>0.040969</td>\n",
              "      <td>0.042029</td>\n",
              "      <td>0.031835</td>\n",
              "      <td>0.118639</td>\n",
              "      <td>0.029660</td>\n",
              "      <td>0.000000</td>\n",
              "      <td>0.000000</td>\n",
              "      <td>0.0</td>\n",
              "      <td>0.0</td>\n",
              "      <td>0.012599</td>\n",
              "      <td>0.035306</td>\n",
              "      <td>0.043900</td>\n",
              "      <td>0.042802</td>\n",
              "      <td>0.015957</td>\n",
              "      <td>0.0</td>\n",
              "      <td>0.000000</td>\n",
              "      <td>0.142919</td>\n",
              "      <td>0.045980</td>\n",
              "      <td>0.048362</td>\n",
              "      <td>0.0</td>\n",
              "      <td>0.012242</td>\n",
              "      <td>0.006479</td>\n",
              "      <td>0.005994</td>\n",
              "      <td>0.0</td>\n",
              "    </tr>\n",
              "    <tr>\n",
              "      <th>2</th>\n",
              "      <td>u108339</td>\n",
              "      <td>0.000000</td>\n",
              "      <td>0.031015</td>\n",
              "      <td>0.027405</td>\n",
              "      <td>0.073695</td>\n",
              "      <td>0.044976</td>\n",
              "      <td>0.033856</td>\n",
              "      <td>0.000000</td>\n",
              "      <td>0.006843</td>\n",
              "      <td>0.0</td>\n",
              "      <td>0.0</td>\n",
              "      <td>0.048410</td>\n",
              "      <td>0.000000</td>\n",
              "      <td>0.005582</td>\n",
              "      <td>0.178195</td>\n",
              "      <td>0.021135</td>\n",
              "      <td>0.0</td>\n",
              "      <td>0.012558</td>\n",
              "      <td>0.185306</td>\n",
              "      <td>0.042435</td>\n",
              "      <td>0.000000</td>\n",
              "      <td>0.0</td>\n",
              "      <td>0.000000</td>\n",
              "      <td>0.000000</td>\n",
              "      <td>0.000000</td>\n",
              "      <td>0.0</td>\n",
              "    </tr>\n",
              "  </tbody>\n",
              "</table>\n",
              "</div>"
            ],
            "text/plain": [
              "       uid   topic_0   topic_1  ...  topic_22  topic_23  topic_24\n",
              "0  u105138  0.019211  0.000000  ...  0.000000  0.000000       0.0\n",
              "1  u108690  0.019047  0.040969  ...  0.006479  0.005994       0.0\n",
              "2  u108339  0.000000  0.031015  ...  0.000000  0.000000       0.0\n",
              "\n",
              "[3 rows x 26 columns]"
            ]
          },
          "metadata": {},
          "execution_count": 31
        }
      ]
    },
    {
      "cell_type": "code",
      "metadata": {
        "id": "tXTukykzdJKw",
        "colab": {
          "base_uri": "https://localhost:8080/",
          "height": 162
        },
        "outputId": "8569aaf8-be1e-4cca-9e41-74939a614850"
      },
      "source": [
        "user_embeddings_max = user_emb(np.max)\n",
        "user_embeddings_max.head(3)"
      ],
      "execution_count": 32,
      "outputs": [
        {
          "output_type": "execute_result",
          "data": {
            "text/html": [
              "<div>\n",
              "<style scoped>\n",
              "    .dataframe tbody tr th:only-of-type {\n",
              "        vertical-align: middle;\n",
              "    }\n",
              "\n",
              "    .dataframe tbody tr th {\n",
              "        vertical-align: top;\n",
              "    }\n",
              "\n",
              "    .dataframe thead th {\n",
              "        text-align: right;\n",
              "    }\n",
              "</style>\n",
              "<table border=\"1\" class=\"dataframe\">\n",
              "  <thead>\n",
              "    <tr style=\"text-align: right;\">\n",
              "      <th></th>\n",
              "      <th>uid</th>\n",
              "      <th>topic_0</th>\n",
              "      <th>topic_1</th>\n",
              "      <th>topic_2</th>\n",
              "      <th>topic_3</th>\n",
              "      <th>topic_4</th>\n",
              "      <th>topic_5</th>\n",
              "      <th>topic_6</th>\n",
              "      <th>topic_7</th>\n",
              "      <th>topic_8</th>\n",
              "      <th>topic_9</th>\n",
              "      <th>topic_10</th>\n",
              "      <th>topic_11</th>\n",
              "      <th>topic_12</th>\n",
              "      <th>topic_13</th>\n",
              "      <th>topic_14</th>\n",
              "      <th>topic_15</th>\n",
              "      <th>topic_16</th>\n",
              "      <th>topic_17</th>\n",
              "      <th>topic_18</th>\n",
              "      <th>topic_19</th>\n",
              "      <th>topic_20</th>\n",
              "      <th>topic_21</th>\n",
              "      <th>topic_22</th>\n",
              "      <th>topic_23</th>\n",
              "      <th>topic_24</th>\n",
              "    </tr>\n",
              "  </thead>\n",
              "  <tbody>\n",
              "    <tr>\n",
              "      <th>0</th>\n",
              "      <td>u105138</td>\n",
              "      <td>0.158585</td>\n",
              "      <td>0.024099</td>\n",
              "      <td>0.231491</td>\n",
              "      <td>0.085839</td>\n",
              "      <td>0.129769</td>\n",
              "      <td>0.245395</td>\n",
              "      <td>0.172964</td>\n",
              "      <td>0.036484</td>\n",
              "      <td>0.115369</td>\n",
              "      <td>0.029742</td>\n",
              "      <td>0.141870</td>\n",
              "      <td>0.431990</td>\n",
              "      <td>0.174020</td>\n",
              "      <td>0.299715</td>\n",
              "      <td>0.118070</td>\n",
              "      <td>0.366891</td>\n",
              "      <td>0.130870</td>\n",
              "      <td>0.206586</td>\n",
              "      <td>0.040716</td>\n",
              "      <td>0.024291</td>\n",
              "      <td>0.197151</td>\n",
              "      <td>0.100729</td>\n",
              "      <td>0.000000</td>\n",
              "      <td>0.025461</td>\n",
              "      <td>0.000000</td>\n",
              "    </tr>\n",
              "    <tr>\n",
              "      <th>1</th>\n",
              "      <td>u108690</td>\n",
              "      <td>0.063366</td>\n",
              "      <td>0.095483</td>\n",
              "      <td>0.089343</td>\n",
              "      <td>0.037623</td>\n",
              "      <td>0.326360</td>\n",
              "      <td>0.108170</td>\n",
              "      <td>0.044108</td>\n",
              "      <td>0.021958</td>\n",
              "      <td>0.051241</td>\n",
              "      <td>0.000000</td>\n",
              "      <td>0.033283</td>\n",
              "      <td>0.082822</td>\n",
              "      <td>0.184984</td>\n",
              "      <td>0.144627</td>\n",
              "      <td>0.195774</td>\n",
              "      <td>0.000000</td>\n",
              "      <td>0.010764</td>\n",
              "      <td>0.423366</td>\n",
              "      <td>0.190240</td>\n",
              "      <td>0.158945</td>\n",
              "      <td>0.000000</td>\n",
              "      <td>0.107925</td>\n",
              "      <td>0.099013</td>\n",
              "      <td>0.102403</td>\n",
              "      <td>0.000000</td>\n",
              "    </tr>\n",
              "    <tr>\n",
              "      <th>2</th>\n",
              "      <td>u108339</td>\n",
              "      <td>0.045560</td>\n",
              "      <td>0.111754</td>\n",
              "      <td>0.504475</td>\n",
              "      <td>0.116352</td>\n",
              "      <td>0.169540</td>\n",
              "      <td>0.171795</td>\n",
              "      <td>0.042933</td>\n",
              "      <td>0.042307</td>\n",
              "      <td>0.013179</td>\n",
              "      <td>0.000000</td>\n",
              "      <td>0.164468</td>\n",
              "      <td>0.000000</td>\n",
              "      <td>0.030960</td>\n",
              "      <td>0.314459</td>\n",
              "      <td>0.146295</td>\n",
              "      <td>0.017902</td>\n",
              "      <td>0.071884</td>\n",
              "      <td>0.260585</td>\n",
              "      <td>0.164487</td>\n",
              "      <td>0.046850</td>\n",
              "      <td>0.000000</td>\n",
              "      <td>0.033098</td>\n",
              "      <td>0.017059</td>\n",
              "      <td>0.089126</td>\n",
              "      <td>0.015136</td>\n",
              "    </tr>\n",
              "  </tbody>\n",
              "</table>\n",
              "</div>"
            ],
            "text/plain": [
              "       uid   topic_0   topic_1  ...  topic_22  topic_23  topic_24\n",
              "0  u105138  0.158585  0.024099  ...  0.000000  0.025461  0.000000\n",
              "1  u108690  0.063366  0.095483  ...  0.099013  0.102403  0.000000\n",
              "2  u108339  0.045560  0.111754  ...  0.017059  0.089126  0.015136\n",
              "\n",
              "[3 rows x 26 columns]"
            ]
          },
          "metadata": {},
          "execution_count": 32
        }
      ]
    },
    {
      "cell_type": "markdown",
      "metadata": {
        "id": "l7afWRXgGkQE"
      },
      "source": [
        "Датасет готов - можно попробовать обучить модель. Загрузим нашу разметку"
      ]
    },
    {
      "cell_type": "code",
      "metadata": {
        "id": "2m0wbmSNGkQE",
        "colab": {
          "base_uri": "https://localhost:8080/",
          "height": 142
        },
        "outputId": "282613c8-157e-468e-81bf-8c057a15a17e"
      },
      "source": [
        "# target = pd.read_csv(\"users_churn.csv\")\n",
        "target = pd.read_csv(\"/content/sample_data/users_churn.csv\")\n",
        "target.head(3)"
      ],
      "execution_count": 33,
      "outputs": [
        {
          "output_type": "execute_result",
          "data": {
            "text/html": [
              "<div>\n",
              "<style scoped>\n",
              "    .dataframe tbody tr th:only-of-type {\n",
              "        vertical-align: middle;\n",
              "    }\n",
              "\n",
              "    .dataframe tbody tr th {\n",
              "        vertical-align: top;\n",
              "    }\n",
              "\n",
              "    .dataframe thead th {\n",
              "        text-align: right;\n",
              "    }\n",
              "</style>\n",
              "<table border=\"1\" class=\"dataframe\">\n",
              "  <thead>\n",
              "    <tr style=\"text-align: right;\">\n",
              "      <th></th>\n",
              "      <th>uid</th>\n",
              "      <th>churn</th>\n",
              "    </tr>\n",
              "  </thead>\n",
              "  <tbody>\n",
              "    <tr>\n",
              "      <th>0</th>\n",
              "      <td>u107120</td>\n",
              "      <td>0</td>\n",
              "    </tr>\n",
              "    <tr>\n",
              "      <th>1</th>\n",
              "      <td>u102277</td>\n",
              "      <td>0</td>\n",
              "    </tr>\n",
              "    <tr>\n",
              "      <th>2</th>\n",
              "      <td>u102444</td>\n",
              "      <td>0</td>\n",
              "    </tr>\n",
              "  </tbody>\n",
              "</table>\n",
              "</div>"
            ],
            "text/plain": [
              "       uid  churn\n",
              "0  u107120      0\n",
              "1  u102277      0\n",
              "2  u102444      0"
            ]
          },
          "metadata": {},
          "execution_count": 33
        }
      ]
    },
    {
      "cell_type": "code",
      "metadata": {
        "id": "rWpANFMjGkQE",
        "colab": {
          "base_uri": "https://localhost:8080/",
          "height": 162
        },
        "outputId": "232c50b8-d7c9-46c1-f674-d49e8ed12f98"
      },
      "source": [
        "X_mean = pd.merge(user_embeddings_mean, target, 'left')\n",
        "X_mean.head(3)"
      ],
      "execution_count": 34,
      "outputs": [
        {
          "output_type": "execute_result",
          "data": {
            "text/html": [
              "<div>\n",
              "<style scoped>\n",
              "    .dataframe tbody tr th:only-of-type {\n",
              "        vertical-align: middle;\n",
              "    }\n",
              "\n",
              "    .dataframe tbody tr th {\n",
              "        vertical-align: top;\n",
              "    }\n",
              "\n",
              "    .dataframe thead th {\n",
              "        text-align: right;\n",
              "    }\n",
              "</style>\n",
              "<table border=\"1\" class=\"dataframe\">\n",
              "  <thead>\n",
              "    <tr style=\"text-align: right;\">\n",
              "      <th></th>\n",
              "      <th>uid</th>\n",
              "      <th>topic_0</th>\n",
              "      <th>topic_1</th>\n",
              "      <th>topic_2</th>\n",
              "      <th>topic_3</th>\n",
              "      <th>topic_4</th>\n",
              "      <th>topic_5</th>\n",
              "      <th>topic_6</th>\n",
              "      <th>topic_7</th>\n",
              "      <th>topic_8</th>\n",
              "      <th>topic_9</th>\n",
              "      <th>topic_10</th>\n",
              "      <th>topic_11</th>\n",
              "      <th>topic_12</th>\n",
              "      <th>topic_13</th>\n",
              "      <th>topic_14</th>\n",
              "      <th>topic_15</th>\n",
              "      <th>topic_16</th>\n",
              "      <th>topic_17</th>\n",
              "      <th>topic_18</th>\n",
              "      <th>topic_19</th>\n",
              "      <th>topic_20</th>\n",
              "      <th>topic_21</th>\n",
              "      <th>topic_22</th>\n",
              "      <th>topic_23</th>\n",
              "      <th>topic_24</th>\n",
              "      <th>churn</th>\n",
              "    </tr>\n",
              "  </thead>\n",
              "  <tbody>\n",
              "    <tr>\n",
              "      <th>0</th>\n",
              "      <td>u105138</td>\n",
              "      <td>0.039421</td>\n",
              "      <td>0.004016</td>\n",
              "      <td>0.058892</td>\n",
              "      <td>0.019831</td>\n",
              "      <td>0.059346</td>\n",
              "      <td>0.102464</td>\n",
              "      <td>0.038024</td>\n",
              "      <td>0.006081</td>\n",
              "      <td>0.019228</td>\n",
              "      <td>0.004957</td>\n",
              "      <td>0.038292</td>\n",
              "      <td>0.124141</td>\n",
              "      <td>0.040205</td>\n",
              "      <td>0.116246</td>\n",
              "      <td>0.041098</td>\n",
              "      <td>0.076709</td>\n",
              "      <td>0.021812</td>\n",
              "      <td>0.087759</td>\n",
              "      <td>0.006786</td>\n",
              "      <td>0.004048</td>\n",
              "      <td>0.039123</td>\n",
              "      <td>0.030638</td>\n",
              "      <td>0.000000</td>\n",
              "      <td>0.006797</td>\n",
              "      <td>0.000000</td>\n",
              "      <td>0</td>\n",
              "    </tr>\n",
              "    <tr>\n",
              "      <th>1</th>\n",
              "      <td>u108690</td>\n",
              "      <td>0.025265</td>\n",
              "      <td>0.043378</td>\n",
              "      <td>0.040027</td>\n",
              "      <td>0.022684</td>\n",
              "      <td>0.156532</td>\n",
              "      <td>0.039429</td>\n",
              "      <td>0.007351</td>\n",
              "      <td>0.005332</td>\n",
              "      <td>0.008540</td>\n",
              "      <td>0.000000</td>\n",
              "      <td>0.015232</td>\n",
              "      <td>0.038641</td>\n",
              "      <td>0.069077</td>\n",
              "      <td>0.046174</td>\n",
              "      <td>0.056634</td>\n",
              "      <td>0.000000</td>\n",
              "      <td>0.001794</td>\n",
              "      <td>0.186667</td>\n",
              "      <td>0.068459</td>\n",
              "      <td>0.065505</td>\n",
              "      <td>0.000000</td>\n",
              "      <td>0.032732</td>\n",
              "      <td>0.031780</td>\n",
              "      <td>0.023754</td>\n",
              "      <td>0.000000</td>\n",
              "      <td>1</td>\n",
              "    </tr>\n",
              "    <tr>\n",
              "      <th>2</th>\n",
              "      <td>u108339</td>\n",
              "      <td>0.007593</td>\n",
              "      <td>0.039758</td>\n",
              "      <td>0.143615</td>\n",
              "      <td>0.059629</td>\n",
              "      <td>0.061290</td>\n",
              "      <td>0.065871</td>\n",
              "      <td>0.009873</td>\n",
              "      <td>0.012610</td>\n",
              "      <td>0.002196</td>\n",
              "      <td>0.000000</td>\n",
              "      <td>0.057990</td>\n",
              "      <td>0.000000</td>\n",
              "      <td>0.009571</td>\n",
              "      <td>0.183143</td>\n",
              "      <td>0.038794</td>\n",
              "      <td>0.002984</td>\n",
              "      <td>0.023504</td>\n",
              "      <td>0.151393</td>\n",
              "      <td>0.065648</td>\n",
              "      <td>0.011034</td>\n",
              "      <td>0.000000</td>\n",
              "      <td>0.008441</td>\n",
              "      <td>0.004643</td>\n",
              "      <td>0.017616</td>\n",
              "      <td>0.002523</td>\n",
              "      <td>1</td>\n",
              "    </tr>\n",
              "  </tbody>\n",
              "</table>\n",
              "</div>"
            ],
            "text/plain": [
              "       uid   topic_0   topic_1   topic_2  ...  topic_22  topic_23  topic_24  churn\n",
              "0  u105138  0.039421  0.004016  0.058892  ...  0.000000  0.006797  0.000000      0\n",
              "1  u108690  0.025265  0.043378  0.040027  ...  0.031780  0.023754  0.000000      1\n",
              "2  u108339  0.007593  0.039758  0.143615  ...  0.004643  0.017616  0.002523      1\n",
              "\n",
              "[3 rows x 27 columns]"
            ]
          },
          "metadata": {},
          "execution_count": 34
        }
      ]
    },
    {
      "cell_type": "code",
      "metadata": {
        "id": "92_4EqOueITA",
        "colab": {
          "base_uri": "https://localhost:8080/",
          "height": 162
        },
        "outputId": "8f1254df-3dc5-40b1-de81-74dea0910bef"
      },
      "source": [
        "X_median = pd.merge(user_embeddings_median, target, 'left')\n",
        "X_median.head(3)"
      ],
      "execution_count": 35,
      "outputs": [
        {
          "output_type": "execute_result",
          "data": {
            "text/html": [
              "<div>\n",
              "<style scoped>\n",
              "    .dataframe tbody tr th:only-of-type {\n",
              "        vertical-align: middle;\n",
              "    }\n",
              "\n",
              "    .dataframe tbody tr th {\n",
              "        vertical-align: top;\n",
              "    }\n",
              "\n",
              "    .dataframe thead th {\n",
              "        text-align: right;\n",
              "    }\n",
              "</style>\n",
              "<table border=\"1\" class=\"dataframe\">\n",
              "  <thead>\n",
              "    <tr style=\"text-align: right;\">\n",
              "      <th></th>\n",
              "      <th>uid</th>\n",
              "      <th>topic_0</th>\n",
              "      <th>topic_1</th>\n",
              "      <th>topic_2</th>\n",
              "      <th>topic_3</th>\n",
              "      <th>topic_4</th>\n",
              "      <th>topic_5</th>\n",
              "      <th>topic_6</th>\n",
              "      <th>topic_7</th>\n",
              "      <th>topic_8</th>\n",
              "      <th>topic_9</th>\n",
              "      <th>topic_10</th>\n",
              "      <th>topic_11</th>\n",
              "      <th>topic_12</th>\n",
              "      <th>topic_13</th>\n",
              "      <th>topic_14</th>\n",
              "      <th>topic_15</th>\n",
              "      <th>topic_16</th>\n",
              "      <th>topic_17</th>\n",
              "      <th>topic_18</th>\n",
              "      <th>topic_19</th>\n",
              "      <th>topic_20</th>\n",
              "      <th>topic_21</th>\n",
              "      <th>topic_22</th>\n",
              "      <th>topic_23</th>\n",
              "      <th>topic_24</th>\n",
              "      <th>churn</th>\n",
              "    </tr>\n",
              "  </thead>\n",
              "  <tbody>\n",
              "    <tr>\n",
              "      <th>0</th>\n",
              "      <td>u105138</td>\n",
              "      <td>0.019211</td>\n",
              "      <td>0.000000</td>\n",
              "      <td>0.000000</td>\n",
              "      <td>0.000000</td>\n",
              "      <td>0.062463</td>\n",
              "      <td>0.083474</td>\n",
              "      <td>0.006116</td>\n",
              "      <td>0.000000</td>\n",
              "      <td>0.0</td>\n",
              "      <td>0.0</td>\n",
              "      <td>0.013883</td>\n",
              "      <td>0.039173</td>\n",
              "      <td>0.008062</td>\n",
              "      <td>0.084000</td>\n",
              "      <td>0.021987</td>\n",
              "      <td>0.0</td>\n",
              "      <td>0.000000</td>\n",
              "      <td>0.082164</td>\n",
              "      <td>0.000000</td>\n",
              "      <td>0.000000</td>\n",
              "      <td>0.0</td>\n",
              "      <td>0.000000</td>\n",
              "      <td>0.000000</td>\n",
              "      <td>0.000000</td>\n",
              "      <td>0.0</td>\n",
              "      <td>0</td>\n",
              "    </tr>\n",
              "    <tr>\n",
              "      <th>1</th>\n",
              "      <td>u108690</td>\n",
              "      <td>0.019047</td>\n",
              "      <td>0.040969</td>\n",
              "      <td>0.042029</td>\n",
              "      <td>0.031835</td>\n",
              "      <td>0.118639</td>\n",
              "      <td>0.029660</td>\n",
              "      <td>0.000000</td>\n",
              "      <td>0.000000</td>\n",
              "      <td>0.0</td>\n",
              "      <td>0.0</td>\n",
              "      <td>0.012599</td>\n",
              "      <td>0.035306</td>\n",
              "      <td>0.043900</td>\n",
              "      <td>0.042802</td>\n",
              "      <td>0.015957</td>\n",
              "      <td>0.0</td>\n",
              "      <td>0.000000</td>\n",
              "      <td>0.142919</td>\n",
              "      <td>0.045980</td>\n",
              "      <td>0.048362</td>\n",
              "      <td>0.0</td>\n",
              "      <td>0.012242</td>\n",
              "      <td>0.006479</td>\n",
              "      <td>0.005994</td>\n",
              "      <td>0.0</td>\n",
              "      <td>1</td>\n",
              "    </tr>\n",
              "    <tr>\n",
              "      <th>2</th>\n",
              "      <td>u108339</td>\n",
              "      <td>0.000000</td>\n",
              "      <td>0.031015</td>\n",
              "      <td>0.027405</td>\n",
              "      <td>0.073695</td>\n",
              "      <td>0.044976</td>\n",
              "      <td>0.033856</td>\n",
              "      <td>0.000000</td>\n",
              "      <td>0.006843</td>\n",
              "      <td>0.0</td>\n",
              "      <td>0.0</td>\n",
              "      <td>0.048410</td>\n",
              "      <td>0.000000</td>\n",
              "      <td>0.005582</td>\n",
              "      <td>0.178195</td>\n",
              "      <td>0.021135</td>\n",
              "      <td>0.0</td>\n",
              "      <td>0.012558</td>\n",
              "      <td>0.185306</td>\n",
              "      <td>0.042435</td>\n",
              "      <td>0.000000</td>\n",
              "      <td>0.0</td>\n",
              "      <td>0.000000</td>\n",
              "      <td>0.000000</td>\n",
              "      <td>0.000000</td>\n",
              "      <td>0.0</td>\n",
              "      <td>1</td>\n",
              "    </tr>\n",
              "  </tbody>\n",
              "</table>\n",
              "</div>"
            ],
            "text/plain": [
              "       uid   topic_0   topic_1   topic_2  ...  topic_22  topic_23  topic_24  churn\n",
              "0  u105138  0.019211  0.000000  0.000000  ...  0.000000  0.000000       0.0      0\n",
              "1  u108690  0.019047  0.040969  0.042029  ...  0.006479  0.005994       0.0      1\n",
              "2  u108339  0.000000  0.031015  0.027405  ...  0.000000  0.000000       0.0      1\n",
              "\n",
              "[3 rows x 27 columns]"
            ]
          },
          "metadata": {},
          "execution_count": 35
        }
      ]
    },
    {
      "cell_type": "code",
      "metadata": {
        "id": "qyWmoKyReRex",
        "colab": {
          "base_uri": "https://localhost:8080/",
          "height": 162
        },
        "outputId": "f412512e-ae3d-4bdc-cc7e-d9e533a31b7f"
      },
      "source": [
        "X_max = pd.merge(user_embeddings_max, target, 'left')\n",
        "X_max.head(3)"
      ],
      "execution_count": 36,
      "outputs": [
        {
          "output_type": "execute_result",
          "data": {
            "text/html": [
              "<div>\n",
              "<style scoped>\n",
              "    .dataframe tbody tr th:only-of-type {\n",
              "        vertical-align: middle;\n",
              "    }\n",
              "\n",
              "    .dataframe tbody tr th {\n",
              "        vertical-align: top;\n",
              "    }\n",
              "\n",
              "    .dataframe thead th {\n",
              "        text-align: right;\n",
              "    }\n",
              "</style>\n",
              "<table border=\"1\" class=\"dataframe\">\n",
              "  <thead>\n",
              "    <tr style=\"text-align: right;\">\n",
              "      <th></th>\n",
              "      <th>uid</th>\n",
              "      <th>topic_0</th>\n",
              "      <th>topic_1</th>\n",
              "      <th>topic_2</th>\n",
              "      <th>topic_3</th>\n",
              "      <th>topic_4</th>\n",
              "      <th>topic_5</th>\n",
              "      <th>topic_6</th>\n",
              "      <th>topic_7</th>\n",
              "      <th>topic_8</th>\n",
              "      <th>topic_9</th>\n",
              "      <th>topic_10</th>\n",
              "      <th>topic_11</th>\n",
              "      <th>topic_12</th>\n",
              "      <th>topic_13</th>\n",
              "      <th>topic_14</th>\n",
              "      <th>topic_15</th>\n",
              "      <th>topic_16</th>\n",
              "      <th>topic_17</th>\n",
              "      <th>topic_18</th>\n",
              "      <th>topic_19</th>\n",
              "      <th>topic_20</th>\n",
              "      <th>topic_21</th>\n",
              "      <th>topic_22</th>\n",
              "      <th>topic_23</th>\n",
              "      <th>topic_24</th>\n",
              "      <th>churn</th>\n",
              "    </tr>\n",
              "  </thead>\n",
              "  <tbody>\n",
              "    <tr>\n",
              "      <th>0</th>\n",
              "      <td>u105138</td>\n",
              "      <td>0.158585</td>\n",
              "      <td>0.024099</td>\n",
              "      <td>0.231491</td>\n",
              "      <td>0.085839</td>\n",
              "      <td>0.129769</td>\n",
              "      <td>0.245395</td>\n",
              "      <td>0.172964</td>\n",
              "      <td>0.036484</td>\n",
              "      <td>0.115369</td>\n",
              "      <td>0.029742</td>\n",
              "      <td>0.141870</td>\n",
              "      <td>0.431990</td>\n",
              "      <td>0.174020</td>\n",
              "      <td>0.299715</td>\n",
              "      <td>0.118070</td>\n",
              "      <td>0.366891</td>\n",
              "      <td>0.130870</td>\n",
              "      <td>0.206586</td>\n",
              "      <td>0.040716</td>\n",
              "      <td>0.024291</td>\n",
              "      <td>0.197151</td>\n",
              "      <td>0.100729</td>\n",
              "      <td>0.000000</td>\n",
              "      <td>0.025461</td>\n",
              "      <td>0.000000</td>\n",
              "      <td>0</td>\n",
              "    </tr>\n",
              "    <tr>\n",
              "      <th>1</th>\n",
              "      <td>u108690</td>\n",
              "      <td>0.063366</td>\n",
              "      <td>0.095483</td>\n",
              "      <td>0.089343</td>\n",
              "      <td>0.037623</td>\n",
              "      <td>0.326360</td>\n",
              "      <td>0.108170</td>\n",
              "      <td>0.044108</td>\n",
              "      <td>0.021958</td>\n",
              "      <td>0.051241</td>\n",
              "      <td>0.000000</td>\n",
              "      <td>0.033283</td>\n",
              "      <td>0.082822</td>\n",
              "      <td>0.184984</td>\n",
              "      <td>0.144627</td>\n",
              "      <td>0.195774</td>\n",
              "      <td>0.000000</td>\n",
              "      <td>0.010764</td>\n",
              "      <td>0.423366</td>\n",
              "      <td>0.190240</td>\n",
              "      <td>0.158945</td>\n",
              "      <td>0.000000</td>\n",
              "      <td>0.107925</td>\n",
              "      <td>0.099013</td>\n",
              "      <td>0.102403</td>\n",
              "      <td>0.000000</td>\n",
              "      <td>1</td>\n",
              "    </tr>\n",
              "    <tr>\n",
              "      <th>2</th>\n",
              "      <td>u108339</td>\n",
              "      <td>0.045560</td>\n",
              "      <td>0.111754</td>\n",
              "      <td>0.504475</td>\n",
              "      <td>0.116352</td>\n",
              "      <td>0.169540</td>\n",
              "      <td>0.171795</td>\n",
              "      <td>0.042933</td>\n",
              "      <td>0.042307</td>\n",
              "      <td>0.013179</td>\n",
              "      <td>0.000000</td>\n",
              "      <td>0.164468</td>\n",
              "      <td>0.000000</td>\n",
              "      <td>0.030960</td>\n",
              "      <td>0.314459</td>\n",
              "      <td>0.146295</td>\n",
              "      <td>0.017902</td>\n",
              "      <td>0.071884</td>\n",
              "      <td>0.260585</td>\n",
              "      <td>0.164487</td>\n",
              "      <td>0.046850</td>\n",
              "      <td>0.000000</td>\n",
              "      <td>0.033098</td>\n",
              "      <td>0.017059</td>\n",
              "      <td>0.089126</td>\n",
              "      <td>0.015136</td>\n",
              "      <td>1</td>\n",
              "    </tr>\n",
              "  </tbody>\n",
              "</table>\n",
              "</div>"
            ],
            "text/plain": [
              "       uid   topic_0   topic_1   topic_2  ...  topic_22  topic_23  topic_24  churn\n",
              "0  u105138  0.158585  0.024099  0.231491  ...  0.000000  0.025461  0.000000      0\n",
              "1  u108690  0.063366  0.095483  0.089343  ...  0.099013  0.102403  0.000000      1\n",
              "2  u108339  0.045560  0.111754  0.504475  ...  0.017059  0.089126  0.015136      1\n",
              "\n",
              "[3 rows x 27 columns]"
            ]
          },
          "metadata": {},
          "execution_count": 36
        }
      ]
    },
    {
      "cell_type": "code",
      "metadata": {
        "id": "Q1JrY3UyGkQE"
      },
      "source": [
        "from sklearn.linear_model import LogisticRegression\n",
        "from sklearn.model_selection import train_test_split\n",
        "#import itertools\n",
        "\n",
        "import matplotlib.pyplot as plt\n",
        "\n",
        "%matplotlib inline"
      ],
      "execution_count": 37,
      "outputs": []
    },
    {
      "cell_type": "code",
      "metadata": {
        "id": "7FyT8i6YGkQE"
      },
      "source": [
        "\n",
        "# X_train, X_test, y_train, y_test = train_test_split(X[['topic_{}'.format(i) for i in range(25)]], \n",
        "                                                    # X['churn'], random_state=0)\n",
        "\n",
        "# разделим данные на train/test оформим так же в функцию\n",
        "def splitter(X):\n",
        "    X_train, X_test, y_train, y_test = train_test_split(X[['topic_{}'.format(i) for i in range(25)]],\n",
        "                                                        X['churn'],\n",
        "                                                        random_state=0)\n",
        "    return X_train, X_test, y_train, y_test\n",
        "\n",
        "X_train_mean, X_test_mean, y_train_mean, y_test_mean = splitter(X_mean)\n",
        "X_train_median, X_test_median, y_train_median, y_test_median = splitter(X_median)\n",
        "X_train_max, X_test_max, y_train_max, y_test_max = splitter(X_max)"
      ],
      "execution_count": 38,
      "outputs": []
    },
    {
      "cell_type": "code",
      "metadata": {
        "id": "GvVHOHD5GkQE",
        "colab": {
          "base_uri": "https://localhost:8080/"
        },
        "outputId": "d5b9c38d-1245-4684-c1fa-cd91da7fcff2"
      },
      "source": [
        "logreg_mean = LogisticRegression()\n",
        "logreg_median = LogisticRegression()\n",
        "logreg_max = LogisticRegression()\n",
        "#обучим \n",
        "logreg_mean.fit(X_train_mean, y_train_mean)\n",
        "logreg_median.fit(X_train_median, y_train_median)\n",
        "logreg_max.fit(X_train_max, y_train_max)"
      ],
      "execution_count": 39,
      "outputs": [
        {
          "output_type": "execute_result",
          "data": {
            "text/plain": [
              "LogisticRegression(C=1.0, class_weight=None, dual=False, fit_intercept=True,\n",
              "                   intercept_scaling=1, l1_ratio=None, max_iter=100,\n",
              "                   multi_class='auto', n_jobs=None, penalty='l2',\n",
              "                   random_state=None, solver='lbfgs', tol=0.0001, verbose=0,\n",
              "                   warm_start=False)"
            ]
          },
          "metadata": {},
          "execution_count": 39
        }
      ]
    },
    {
      "cell_type": "code",
      "metadata": {
        "id": "b3WrsFWVGkQE"
      },
      "source": [
        "#наши прогнозы для тестовой выборки\n",
        "predicts_mean = logreg_mean.predict_proba(X_test_mean)[:, 1]\n",
        "predicts_median = logreg_median.predict_proba(X_test_median)[:, 1]\n",
        "predicts_max = logreg_max.predict_proba(X_test_max)[:, 1]"
      ],
      "execution_count": 40,
      "outputs": []
    },
    {
      "cell_type": "code",
      "metadata": {
        "id": "tCDaBMLZnZj4",
        "colab": {
          "base_uri": "https://localhost:8080/"
        },
        "outputId": "87bf5507-e4f6-471f-a6ac-73c56e8040b4"
      },
      "source": [
        "predicts_mean[:10]"
      ],
      "execution_count": 41,
      "outputs": [
        {
          "output_type": "execute_result",
          "data": {
            "text/plain": [
              "array([0.19191906, 0.0105566 , 0.31667324, 0.24478491, 0.13950204,\n",
              "       0.06767388, 0.099634  , 0.01372219, 0.03000305, 0.10971787])"
            ]
          },
          "metadata": {},
          "execution_count": 41
        }
      ]
    },
    {
      "cell_type": "code",
      "metadata": {
        "id": "VN8Ogg3VnZc3",
        "colab": {
          "base_uri": "https://localhost:8080/"
        },
        "outputId": "177ed590-ab05-483e-9cf5-3b3e9709c36b"
      },
      "source": [
        "predicts_median[:10]"
      ],
      "execution_count": 42,
      "outputs": [
        {
          "output_type": "execute_result",
          "data": {
            "text/plain": [
              "array([0.10840643, 0.01804151, 0.58173443, 0.17157837, 0.18876391,\n",
              "       0.07429649, 0.10849739, 0.01096668, 0.04477409, 0.06300173])"
            ]
          },
          "metadata": {},
          "execution_count": 42
        }
      ]
    },
    {
      "cell_type": "code",
      "metadata": {
        "id": "7t6G0CCznZTT",
        "colab": {
          "base_uri": "https://localhost:8080/"
        },
        "outputId": "9f4e6776-8488-48d6-c0b2-7390cfb443a9"
      },
      "source": [
        "predicts_max[:10]"
      ],
      "execution_count": 43,
      "outputs": [
        {
          "output_type": "execute_result",
          "data": {
            "text/plain": [
              "array([5.17158956e-02, 6.32028456e-04, 8.99232641e-01, 2.34773716e-01,\n",
              "       1.49015456e-01, 5.16534022e-03, 6.48531217e-02, 2.14147854e-02,\n",
              "       6.79465498e-03, 1.37375926e-01])"
            ]
          },
          "metadata": {},
          "execution_count": 43
        }
      ]
    },
    {
      "cell_type": "code",
      "metadata": {
        "id": "f9ZjnGpXGkQE"
      },
      "source": [
        "from sklearn.metrics import f1_score, roc_auc_score, precision_score, classification_report, precision_recall_curve, confusion_matrix"
      ],
      "execution_count": 44,
      "outputs": []
    },
    {
      "cell_type": "markdown",
      "metadata": {
        "id": "bfcf6JxcGkQE"
      },
      "source": [
        "### Рассчитаем Precision, Recall, F_score"
      ]
    },
    {
      "cell_type": "code",
      "metadata": {
        "id": "Jsvg0ZgcGkQE"
      },
      "source": [
        "import itertools"
      ],
      "execution_count": 45,
      "outputs": []
    },
    {
      "cell_type": "code",
      "metadata": {
        "id": "R_etZF_zGkQE"
      },
      "source": [
        "# оформим в функцию\n",
        "def metrics(y_test, preds):\n",
        "    precision, recall, thresholds = precision_recall_curve(y_test, preds)\n",
        "    fscore = (2 * precision * recall) / (precision + recall)\n",
        "    # locate the index of the largest f score\n",
        "    ix = np.argmax(fscore)\n",
        "    print('Best Threshold=%f, F-Score=%.3f, Precision=%.3f, Recall=%.3f' % (thresholds[ix], \n",
        "                                                                            fscore[ix],\n",
        "                                                                            precision[ix],\n",
        "                                                                            recall[ix]))\n",
        "    return precision, recall, thresholds, ix, fscore"
      ],
      "execution_count": 46,
      "outputs": []
    },
    {
      "cell_type": "code",
      "metadata": {
        "id": "HVPlIOY_odUm",
        "colab": {
          "base_uri": "https://localhost:8080/"
        },
        "outputId": "0f7a7482-5aba-4baf-b63f-d0786c07c525"
      },
      "source": [
        "precision_mean, recall_mean, thresholds_mean, ix_mean, fscore_mean = metrics(y_test_mean, predicts_mean)\n",
        "precision_median, recall_median, thresholds_median, ix_median, fscore_median = metrics(y_test_median, predicts_median)\n",
        "precision_max, recall_max, thresholds_max, ix_max, fscore_max = metrics(y_test_max, predicts_max)"
      ],
      "execution_count": 47,
      "outputs": [
        {
          "output_type": "stream",
          "name": "stdout",
          "text": [
            "Best Threshold=0.231994, F-Score=0.670, Precision=0.605, Recall=0.751\n",
            "Best Threshold=0.266043, F-Score=0.837, Precision=0.815, Recall=0.861\n",
            "Best Threshold=0.303545, F-Score=0.784, Precision=0.748, Recall=0.824\n"
          ]
        }
      ]
    },
    {
      "cell_type": "code",
      "metadata": {
        "id": "liedjAn6GkQE"
      },
      "source": [
        "def plot_confusion_matrix(cm, classes,\n",
        "                          normalize=False,\n",
        "                          title='Confusion matrix',\n",
        "                          cmap=plt.cm.Blues):\n",
        "    \"\"\"\n",
        "    This function prints and plots the confusion matrix.\n",
        "    Normalization can be applied by setting `normalize=True`.\n",
        "    \"\"\"\n",
        "    plt.imshow(cm, interpolation='nearest', cmap=cmap)\n",
        "    plt.title(title)\n",
        "    plt.colorbar()\n",
        "    tick_marks = np.arange(len(classes))\n",
        "    plt.xticks(tick_marks, classes, rotation=45)\n",
        "    plt.yticks(tick_marks, classes)\n",
        "\n",
        "    if normalize:\n",
        "        cm = cm.astype('float') / cm.sum(axis=1)[:, np.newaxis]\n",
        "        print(\"Normalized confusion matrix\")\n",
        "    else:\n",
        "        print('Confusion matrix, without normalization')\n",
        "\n",
        "    print(cm)\n",
        "\n",
        "    thresh = cm.max() / 2.\n",
        "    for i, j in itertools.product(range(cm.shape[0]), range(cm.shape[1])):\n",
        "        plt.text(j, i, cm[i, j],\n",
        "                 horizontalalignment=\"center\",\n",
        "                 color=\"white\" if cm[i, j] > thresh else \"black\")\n",
        "\n",
        "    plt.tight_layout()\n",
        "    plt.ylabel('True label')\n",
        "    plt.xlabel('Predicted label')"
      ],
      "execution_count": 48,
      "outputs": []
    },
    {
      "cell_type": "code",
      "metadata": {
        "id": "Lt-CNvmurH2M"
      },
      "source": [
        "def print_d(y_test, preds, thresholds, ix):\n",
        "    font = {'size' : 15}\n",
        "\n",
        "    plt.rc('font', **font)\n",
        "\n",
        "    cnf_matrix = confusion_matrix(y_test, preds>thresholds[ix])\n",
        "    plt.figure(figsize=(10, 8))\n",
        "    plot_confusion_matrix(cnf_matrix, classes=['Non-Churn', 'churn'],\n",
        "                          title='Confusion matrix')\n",
        "    plt.savefig(\"conf_matrix.png\")\n",
        "    plt.show()"
      ],
      "execution_count": 49,
      "outputs": []
    },
    {
      "cell_type": "code",
      "metadata": {
        "id": "YF0v98ckqtWv",
        "colab": {
          "base_uri": "https://localhost:8080/",
          "height": 644
        },
        "outputId": "5304c168-6415-4222-c804-5a7bdd14816d"
      },
      "source": [
        "print_d(y_test_mean, predicts_mean, thresholds_mean, ix_mean)"
      ],
      "execution_count": 50,
      "outputs": [
        {
          "output_type": "stream",
          "name": "stdout",
          "text": [
            "Confusion matrix, without normalization\n",
            "[[1635  120]\n",
            " [  62  183]]\n"
          ]
        },
        {
          "output_type": "display_data",
          "data": {
            "image/png": "[encoded data removed]",
            "text/plain": [
              "<Figure size 720x576 with 2 Axes>"
            ]
          },
          "metadata": {
            "needs_background": "light"
          }
        }
      ]
    },
    {
      "cell_type": "code",
      "metadata": {
        "id": "cXKHprY2q93L",
        "colab": {
          "base_uri": "https://localhost:8080/",
          "height": 644
        },
        "outputId": "03719bf5-7356-429f-e554-a25b9a13a83f"
      },
      "source": [
        "print_d(y_test_median, predicts_median, thresholds_median, ix_median)"
      ],
      "execution_count": 51,
      "outputs": [
        {
          "output_type": "stream",
          "name": "stdout",
          "text": [
            "Confusion matrix, without normalization\n",
            "[[1707   48]\n",
            " [  35  210]]\n"
          ]
        },
        {
          "output_type": "display_data",
          "data": {
            "image/png": "[encoded data removed]",
            "text/plain": [
              "<Figure size 720x576 with 2 Axes>"
            ]
          },
          "metadata": {
            "needs_background": "light"
          }
        }
      ]
    },
    {
      "cell_type": "code",
      "metadata": {
        "id": "Es2MTcB4rFpe",
        "colab": {
          "base_uri": "https://localhost:8080/",
          "height": 644
        },
        "outputId": "b3967a4d-263e-4557-e366-025580082590"
      },
      "source": [
        "print_d(y_test_max, predicts_max, thresholds_max, ix_max)"
      ],
      "execution_count": 52,
      "outputs": [
        {
          "output_type": "stream",
          "name": "stdout",
          "text": [
            "Confusion matrix, without normalization\n",
            "[[1687   68]\n",
            " [  44  201]]\n"
          ]
        },
        {
          "output_type": "display_data",
          "data": {
            "image/png": "[encoded data removed]",
            "text/plain": [
              "<Figure size 720x576 with 2 Axes>"
            ]
          },
          "metadata": {
            "needs_background": "light"
          }
        }
      ]
    },
    {
      "cell_type": "code",
      "metadata": {
        "id": "suKbf9vMGkQE",
        "colab": {
          "base_uri": "https://localhost:8080/"
        },
        "outputId": "bace8da8-3712-44a2-b362-0cb1d62c4161"
      },
      "source": [
        "roc_auc_score_mean = roc_auc_score(y_test_mean, predicts_mean)\n",
        "roc_auc_score_mean"
      ],
      "execution_count": 53,
      "outputs": [
        {
          "output_type": "execute_result",
          "data": {
            "text/plain": [
              "0.9410849467992325"
            ]
          },
          "metadata": {},
          "execution_count": 53
        }
      ]
    },
    {
      "cell_type": "code",
      "metadata": {
        "id": "ShcXBXDnuDcB",
        "colab": {
          "base_uri": "https://localhost:8080/"
        },
        "outputId": "7992dab8-6e52-46fd-afbe-05a2b4ff6135"
      },
      "source": [
        "roc_auc_score_median = roc_auc_score(y_test_median, predicts_median)\n",
        "roc_auc_score_median"
      ],
      "execution_count": 54,
      "outputs": [
        {
          "output_type": "execute_result",
          "data": {
            "text/plain": [
              "0.9823617652189082"
            ]
          },
          "metadata": {},
          "execution_count": 54
        }
      ]
    },
    {
      "cell_type": "code",
      "metadata": {
        "id": "qXzGqc_NuDP5",
        "colab": {
          "base_uri": "https://localhost:8080/"
        },
        "outputId": "bce0fbcc-9f07-4a0d-eb21-285fa321e8d3"
      },
      "source": [
        "roc_auc_score_max = roc_auc_score(y_test_max, predicts_max)\n",
        "roc_auc_score_max"
      ],
      "execution_count": 55,
      "outputs": [
        {
          "output_type": "execute_result",
          "data": {
            "text/plain": [
              "0.9773614745043315"
            ]
          },
          "metadata": {},
          "execution_count": 55
        }
      ]
    },
    {
      "cell_type": "markdown",
      "metadata": {
        "id": "wcYZEtKRxazk"
      },
      "source": [
        "### 5. Сформировать на выходе единую таблицу, сравнивающую качество 3 разных метода получения эмбедингов пользователей: mean, median, max, idf_mean по метрикам roc_auc, precision, recall, f_score"
      ]
    },
    {
      "cell_type": "code",
      "metadata": {
        "id": "4f96BIAouYZy",
        "colab": {
          "base_uri": "https://localhost:8080/",
          "height": 173
        },
        "outputId": "1937b7e5-235e-40ae-c029-6b3ec61f4a97"
      },
      "source": [
        "report = pd.DataFrame(\n",
        "    {\n",
        "        'Mean': [precision_mean[ix_mean], recall_mean[ix_mean], fscore_mean[ix_mean], roc_auc_score_mean],\n",
        "        'Median': [precision_median[ix_median], recall_median[ix_median], fscore_median[ix_median], roc_auc_score_median],\n",
        "        'Max': [precision_max[ix_max], recall_max[ix_max], fscore_max[ix_max], roc_auc_score_max]\n",
        "    },\n",
        "    index=['Precision', 'Recall', 'F1 score', 'Roc auc score']\n",
        ")\n",
        "\n",
        "report"
      ],
      "execution_count": 56,
      "outputs": [
        {
          "output_type": "execute_result",
          "data": {
            "text/html": [
              "<div>\n",
              "<style scoped>\n",
              "    .dataframe tbody tr th:only-of-type {\n",
              "        vertical-align: middle;\n",
              "    }\n",
              "\n",
              "    .dataframe tbody tr th {\n",
              "        vertical-align: top;\n",
              "    }\n",
              "\n",
              "    .dataframe thead th {\n",
              "        text-align: right;\n",
              "    }\n",
              "</style>\n",
              "<table border=\"1\" class=\"dataframe\">\n",
              "  <thead>\n",
              "    <tr style=\"text-align: right;\">\n",
              "      <th></th>\n",
              "      <th>Mean</th>\n",
              "      <th>Median</th>\n",
              "      <th>Max</th>\n",
              "    </tr>\n",
              "  </thead>\n",
              "  <tbody>\n",
              "    <tr>\n",
              "      <th>Precision</th>\n",
              "      <td>0.605263</td>\n",
              "      <td>0.814672</td>\n",
              "      <td>0.748148</td>\n",
              "    </tr>\n",
              "    <tr>\n",
              "      <th>Recall</th>\n",
              "      <td>0.751020</td>\n",
              "      <td>0.861224</td>\n",
              "      <td>0.824490</td>\n",
              "    </tr>\n",
              "    <tr>\n",
              "      <th>F1 score</th>\n",
              "      <td>0.670310</td>\n",
              "      <td>0.837302</td>\n",
              "      <td>0.784466</td>\n",
              "    </tr>\n",
              "    <tr>\n",
              "      <th>Roc auc score</th>\n",
              "      <td>0.941085</td>\n",
              "      <td>0.982362</td>\n",
              "      <td>0.977361</td>\n",
              "    </tr>\n",
              "  </tbody>\n",
              "</table>\n",
              "</div>"
            ],
            "text/plain": [
              "                   Mean    Median       Max\n",
              "Precision      0.605263  0.814672  0.748148\n",
              "Recall         0.751020  0.861224  0.824490\n",
              "F1 score       0.670310  0.837302  0.784466\n",
              "Roc auc score  0.941085  0.982362  0.977361"
            ]
          },
          "metadata": {},
          "execution_count": 56
        }
      ]
    },
    {
      "cell_type": "markdown",
      "metadata": {
        "id": "0EZ45OSLxucN"
      },
      "source": [
        "# 6. Сделать самостоятельные выводы и предположения о том, почему тот или ной способ оказался эффективнее остальных"
      ]
    },
    {
      "cell_type": "markdown",
      "metadata": {
        "id": "sC2yAZEYGkQF"
      },
      "source": [
        "На основе полученных данных видим, что mean имеет самую низкую метрику, max выше, median еще чуть выше median.\n",
        "\n",
        "Здесь все объясеяется спецификой самих функций, которые используются в модели.\n",
        "\n",
        "Так при расчете среднего значения модель будет улавливать только те значения, где имеется большое количество статей в тематике. В противном случае на фоне большого числа тем интерес будет как бы \"размазан\".\n",
        "\n",
        "При расчете медианного значения, тут ситуация немного противоположная, фактически \"выбросы\" - где много статей одной тематики не будут иметь того большого влияния, т.к. медиана имеет свойство \"отбрасывать\" выбросы (хотя у нас это не выбросы на самом деле) и тем самым замечать более низкие значения.\n",
        "\n",
        "В случае в с функцией max получается смесь и mean и median. С одной стороны взятие максимума позволяет замечать небольшие значения, а не \"занулять\" их, а с другой стороны большие значения оказывают большее влияние при обучении. \n",
        "\n"
      ]
    }
  ]
}