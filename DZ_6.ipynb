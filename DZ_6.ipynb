{
  "nbformat": 4,
  "nbformat_minor": 0,
  "metadata": {
    "kernelspec": {
      "display_name": "Python 3",
      "language": "python",
      "name": "python3"
    },
    "language_info": {
      "codemirror_mode": {
        "name": "ipython",
        "version": 3
      },
      "file_extension": ".py",
      "mimetype": "text/x-python",
      "name": "python",
      "nbconvert_exporter": "python",
      "pygments_lexer": "ipython3",
      "version": "3.8.3"
    },
    "colab": {
      "name": "DZ_6.ipynb",
      "provenance": [],
      "collapsed_sections": []
    }
  },
  "cells": [
    {
      "cell_type": "markdown",
      "metadata": {
        "id": "CO9DL05G4-wU"
      },
      "source": [
        "# Домашнее задание\n",
        "\n",
        "1. взять любой набор данных для бинарной классификации (можно скачать один из модельных с https://archive.ics.uci.edu/ml/datasets.php)\n",
        "2. сделать feature engineering\n",
        "3. обучить любой классификатор (какой вам нравится)\n",
        "4. далее разделить ваш набор данных на два множества: P (positives) и U (unlabeled). Причем брать нужно не все положительные (класс 1) примеры, а только лишь часть\n",
        "5. применить random negative sampling для построения классификатора в новых условиях\n",
        "6. сравнить качество с решением из пункта 4 (построить отчет - таблицу метрик)\n",
        "7. поэкспериментировать с долей P на шаге 5 (как будет меняться качество модели при уменьшении/увеличении размера P)"
      ]
    },
    {
      "cell_type": "code",
      "metadata": {
        "id": "AxNYNKl6I3vv"
      },
      "source": [
        "# !pip install catboost"
      ],
      "execution_count": 1,
      "outputs": []
    },
    {
      "cell_type": "code",
      "metadata": {
        "id": "lheV5jdniEWh"
      },
      "source": [
        "import pandas as pd\n",
        "import numpy as np\n",
        "from sklearn.model_selection import train_test_split\n",
        "import xgboost as xgb\n",
        "import catboost as catb\n",
        "from sklearn.metrics import recall_score, precision_score, roc_auc_score, accuracy_score, f1_score\n",
        "\n",
        "%matplotlib inline\n",
        "\n",
        "def evaluate_results(y_test, y_predict):\n",
        "    print('Classification results:')\n",
        "    f1 = f1_score(y_test, y_predict)\n",
        "    print(\"f1: %.2f%%\" % (f1 * 100.0)) \n",
        "    roc = roc_auc_score(y_test, y_predict)\n",
        "    print(\"roc: %.2f%%\" % (roc * 100.0)) \n",
        "    rec = recall_score(y_test, y_predict, average='binary')\n",
        "    print(\"recall: %.2f%%\" % (rec * 100.0)) \n",
        "    prc = precision_score(y_test, y_predict, average='binary')\n",
        "    print(\"precision: %.2f%%\" % (prc * 100.0)) "
      ],
      "execution_count": 2,
      "outputs": []
    },
    {
      "cell_type": "markdown",
      "metadata": {
        "id": "WfGFGlKVFng2"
      },
      "source": [
        "### 1. взять любой набор данных для бинарной классификации (можно скачать один из модельных с https://archive.ics.uci.edu/ml/datasets.php)\n",
        "\n",
        "Возьмем Census Income Data Set\n",
        "\n",
        "Abstract: Predict whether income exceeds $50K/yr based on census data. Also known as \"Adult\" dataset.\n",
        "\n",
        "Data Set Information:\n",
        "\n",
        "Extraction was done by Barry Becker from the 1994 Census database. A set of reasonably clean records was extracted using the following conditions: ((AAGE>16) && (AGI>100) && (AFNLWGT>1)&& (HRSWK>0))\n",
        "\n",
        "Prediction task is to determine whether a person makes over 50K a year."
      ]
    },
    {
      "cell_type": "code",
      "metadata": {
        "id": "gcyGUEj1iEWi",
        "colab": {
          "base_uri": "https://localhost:8080/",
          "height": 247
        },
        "outputId": "b8e109e2-223f-4c16-ae3d-0d7853841afb"
      },
      "source": [
        "data = pd.read_csv(\"adult.data\")\n",
        "# data = pd.read_csv(\"/content/sample_data/adult.data\")\n",
        "\n",
        "\n",
        "data.columns = ['age', 'workclass', 'fnlwgt', 'education',\n",
        "              'education-num', 'marital-status', 'occupation',\n",
        "              'relationship', 'race', 'sex', 'capital-gain', 'capital-loss',\n",
        "              'hours-per-week', 'native-country', 'target']\n",
        "data.head(3)"
      ],
      "execution_count": 3,
      "outputs": [
        {
          "output_type": "execute_result",
          "data": {
            "text/html": [
              "<div>\n",
              "<style scoped>\n",
              "    .dataframe tbody tr th:only-of-type {\n",
              "        vertical-align: middle;\n",
              "    }\n",
              "\n",
              "    .dataframe tbody tr th {\n",
              "        vertical-align: top;\n",
              "    }\n",
              "\n",
              "    .dataframe thead th {\n",
              "        text-align: right;\n",
              "    }\n",
              "</style>\n",
              "<table border=\"1\" class=\"dataframe\">\n",
              "  <thead>\n",
              "    <tr style=\"text-align: right;\">\n",
              "      <th></th>\n",
              "      <th>age</th>\n",
              "      <th>workclass</th>\n",
              "      <th>fnlwgt</th>\n",
              "      <th>education</th>\n",
              "      <th>education-num</th>\n",
              "      <th>marital-status</th>\n",
              "      <th>occupation</th>\n",
              "      <th>relationship</th>\n",
              "      <th>race</th>\n",
              "      <th>sex</th>\n",
              "      <th>capital-gain</th>\n",
              "      <th>capital-loss</th>\n",
              "      <th>hours-per-week</th>\n",
              "      <th>native-country</th>\n",
              "      <th>target</th>\n",
              "    </tr>\n",
              "  </thead>\n",
              "  <tbody>\n",
              "    <tr>\n",
              "      <th>0</th>\n",
              "      <td>50</td>\n",
              "      <td>Self-emp-not-inc</td>\n",
              "      <td>83311</td>\n",
              "      <td>Bachelors</td>\n",
              "      <td>13</td>\n",
              "      <td>Married-civ-spouse</td>\n",
              "      <td>Exec-managerial</td>\n",
              "      <td>Husband</td>\n",
              "      <td>White</td>\n",
              "      <td>Male</td>\n",
              "      <td>0</td>\n",
              "      <td>0</td>\n",
              "      <td>13</td>\n",
              "      <td>United-States</td>\n",
              "      <td>&lt;=50K</td>\n",
              "    </tr>\n",
              "    <tr>\n",
              "      <th>1</th>\n",
              "      <td>38</td>\n",
              "      <td>Private</td>\n",
              "      <td>215646</td>\n",
              "      <td>HS-grad</td>\n",
              "      <td>9</td>\n",
              "      <td>Divorced</td>\n",
              "      <td>Handlers-cleaners</td>\n",
              "      <td>Not-in-family</td>\n",
              "      <td>White</td>\n",
              "      <td>Male</td>\n",
              "      <td>0</td>\n",
              "      <td>0</td>\n",
              "      <td>40</td>\n",
              "      <td>United-States</td>\n",
              "      <td>&lt;=50K</td>\n",
              "    </tr>\n",
              "    <tr>\n",
              "      <th>2</th>\n",
              "      <td>53</td>\n",
              "      <td>Private</td>\n",
              "      <td>234721</td>\n",
              "      <td>11th</td>\n",
              "      <td>7</td>\n",
              "      <td>Married-civ-spouse</td>\n",
              "      <td>Handlers-cleaners</td>\n",
              "      <td>Husband</td>\n",
              "      <td>Black</td>\n",
              "      <td>Male</td>\n",
              "      <td>0</td>\n",
              "      <td>0</td>\n",
              "      <td>40</td>\n",
              "      <td>United-States</td>\n",
              "      <td>&lt;=50K</td>\n",
              "    </tr>\n",
              "  </tbody>\n",
              "</table>\n",
              "</div>"
            ],
            "text/plain": [
              "   age          workclass  fnlwgt  ... hours-per-week  native-country  target\n",
              "0   50   Self-emp-not-inc   83311  ...             13   United-States   <=50K\n",
              "1   38            Private  215646  ...             40   United-States   <=50K\n",
              "2   53            Private  234721  ...             40   United-States   <=50K\n",
              "\n",
              "[3 rows x 15 columns]"
            ]
          },
          "metadata": {},
          "execution_count": 3
        }
      ]
    },
    {
      "cell_type": "code",
      "metadata": {
        "colab": {
          "base_uri": "https://localhost:8080/"
        },
        "id": "0fcqGU1OCHpK",
        "outputId": "89248c30-4dbb-4190-c10f-5e8dc0459756"
      },
      "source": [
        "print(data.shape)"
      ],
      "execution_count": 4,
      "outputs": [
        {
          "output_type": "stream",
          "name": "stdout",
          "text": [
            "(32560, 15)\n"
          ]
        }
      ]
    },
    {
      "cell_type": "markdown",
      "metadata": {
        "id": "xYOvotB-B7Ff"
      },
      "source": [
        "Данные содержат 14 признаков и таргет в виде строки заработает ли человек более 50 000 или нет. Всего имееем 32560 записей.\n",
        "\n",
        "Посмотрим на соотношение классов"
      ]
    },
    {
      "cell_type": "code",
      "metadata": {
        "colab": {
          "base_uri": "https://localhost:8080/"
        },
        "id": "OkrIB_mOBtmP",
        "outputId": "dc0496d1-da54-491b-c722-ca0ebd92a4e7"
      },
      "source": [
        "data.iloc[:, -1].value_counts()"
      ],
      "execution_count": 5,
      "outputs": [
        {
          "output_type": "execute_result",
          "data": {
            "text/plain": [
              " <=50K    24719\n",
              " >50K      7841\n",
              "Name: target, dtype: int64"
            ]
          },
          "metadata": {},
          "execution_count": 5
        }
      ]
    },
    {
      "cell_type": "markdown",
      "metadata": {
        "id": "Bl3mWCZUF9m7"
      },
      "source": [
        "### 2. сделать feature engineering"
      ]
    },
    {
      "cell_type": "markdown",
      "metadata": {
        "id": "wSmOxdpgDSyE"
      },
      "source": [
        "Разобъем данные на данные и таргет, а так же заменим строки на бинарные признаки и проверим соотношение, что ничего не изменилось."
      ]
    },
    {
      "cell_type": "code",
      "metadata": {
        "colab": {
          "base_uri": "https://localhost:8080/"
        },
        "id": "_zyhQMvkDXz8",
        "outputId": "e1529794-d106-4f0f-8de5-f1da6061e02c"
      },
      "source": [
        "data['target'] = data['target'].apply(lambda x: 0 if x == ' <=50K' else 1)\n",
        "\n",
        "x_data = data.iloc[:,:-1]\n",
        "y_data = data.iloc[:,-1]\n",
        "\n",
        "data.iloc[:, -1].value_counts()"
      ],
      "execution_count": 6,
      "outputs": [
        {
          "output_type": "execute_result",
          "data": {
            "text/plain": [
              "0    24719\n",
              "1     7841\n",
              "Name: target, dtype: int64"
            ]
          },
          "metadata": {},
          "execution_count": 6
        }
      ]
    },
    {
      "cell_type": "markdown",
      "metadata": {
        "id": "oQwd0XNMFg2B"
      },
      "source": [
        "Разобъем выборку на тренировочную и тестовую"
      ]
    },
    {
      "cell_type": "code",
      "metadata": {
        "id": "ymKwcad2Btgp"
      },
      "source": [
        "x_train, x_test, y_train, y_test = train_test_split(x_data, y_data, test_size=0.3, random_state=42)"
      ],
      "execution_count": 7,
      "outputs": []
    },
    {
      "cell_type": "markdown",
      "metadata": {
        "id": "ic8Mts8QGTPS"
      },
      "source": [
        "### 3. обучить любой классификатор (какой вам нравится)"
      ]
    },
    {
      "cell_type": "code",
      "metadata": {
        "colab": {
          "base_uri": "https://localhost:8080/"
        },
        "id": "aAN-resaBter",
        "outputId": "40324a16-89d2-4f5a-e763-24380c0ced6b"
      },
      "source": [
        "cat_features = ['workclass', \n",
        "                'education', \n",
        "                'marital-status', \n",
        "                'occupation', \n",
        "                'relationship', \n",
        "                'race',\n",
        "                'sex',\n",
        "                'native-country']\n",
        "\n",
        "model = catb.CatBoostClassifier(random_state=42, cat_features=cat_features, silent=True)\n",
        "\n",
        "model.fit(x_train, y_train)\n",
        "y_predict = model.predict(x_test)\n",
        "\n",
        "evaluate_results(y_test, y_predict)\n"
      ],
      "execution_count": 8,
      "outputs": [
        {
          "output_type": "stream",
          "name": "stdout",
          "text": [
            "Classification results:\n",
            "f1: 72.20%\n",
            "roc: 80.54%\n",
            "recall: 67.13%\n",
            "precision: 78.09%\n"
          ]
        }
      ]
    },
    {
      "cell_type": "markdown",
      "metadata": {
        "id": "iwj-aFmIOwXU"
      },
      "source": [
        "### 4. далее разделить ваш набор данных на два множества: P (positives) и U (unlabeled). Причем брать нужно не все положительные (класс 1) примеры, а только лишь часть"
      ]
    },
    {
      "cell_type": "code",
      "metadata": {
        "colab": {
          "base_uri": "https://localhost:8080/"
        },
        "id": "alaBmsypBtc3",
        "outputId": "589ac81b-a975-47b8-e45a-59fc130e9aa1"
      },
      "source": [
        "mod_data = data.copy()\n",
        "\n",
        "# Возьмем позитивные индексы\n",
        "pos_ind = np.where(mod_data.iloc[:,-1].values == 1)[0]\n",
        "\n",
        "# перемешаем их\n",
        "np.random.shuffle(pos_ind)\n",
        "\n",
        "# оставим только 25% позитивных маркеров\n",
        "pos_sample_len = int(np.ceil(0.25 * len(pos_ind)))\n",
        "\n",
        "print(f'Используется {pos_sample_len}/{len(pos_ind)} как позитивные и неразмеченные')\n",
        "pos_sample = pos_ind[:pos_sample_len]"
      ],
      "execution_count": 9,
      "outputs": [
        {
          "output_type": "stream",
          "name": "stdout",
          "text": [
            "Используется 1961/7841 как позитивные и неразмеченные\n"
          ]
        }
      ]
    },
    {
      "cell_type": "code",
      "metadata": {
        "colab": {
          "base_uri": "https://localhost:8080/"
        },
        "id": "naWlfotsBtbF",
        "outputId": "3af268a7-d3c8-47a1-bc36-304b3f314500"
      },
      "source": [
        "mod_data['class_test'] = -1\n",
        "mod_data.loc[pos_sample,'class_test'] = 1\n",
        "print('target variable:\\n', mod_data.iloc[:,-1].value_counts())"
      ],
      "execution_count": 10,
      "outputs": [
        {
          "output_type": "stream",
          "name": "stdout",
          "text": [
            "target variable:\n",
            " -1    30599\n",
            " 1     1961\n",
            "Name: class_test, dtype: int64\n"
          ]
        }
      ]
    },
    {
      "cell_type": "code",
      "metadata": {
        "id": "VwS-OBE_BtXs"
      },
      "source": [
        "x_data = mod_data.iloc[:,:-2].values # just the X \n",
        "y_labeled = mod_data.iloc[:,-1].values # new class (just the P & U)\n",
        "y_positive = mod_data.iloc[:,-2].values # original class"
      ],
      "execution_count": 11,
      "outputs": []
    },
    {
      "cell_type": "markdown",
      "metadata": {
        "id": "Wb646gsgQIPU"
      },
      "source": [
        "### 5. применить random negative sampling для построения классификатора в новых условиях"
      ]
    },
    {
      "cell_type": "code",
      "metadata": {
        "colab": {
          "base_uri": "https://localhost:8080/"
        },
        "id": "H_xGippjQH70",
        "outputId": "c6476d64-3db2-4fb6-ce21-357e47c596f8"
      },
      "source": [
        "mod_data = mod_data.sample(frac=1)\n",
        "neg_sample = mod_data[mod_data['class_test']==-1][:len(mod_data[mod_data['class_test']==1])]\n",
        "sample_test = mod_data[mod_data['class_test']==-1][len(mod_data[mod_data['class_test']==1]):]\n",
        "pos_sample = mod_data[mod_data['class_test']==1]\n",
        "print(neg_sample.shape, pos_sample.shape)\n",
        "sample_train = pd.concat([neg_sample, pos_sample]).sample(frac=1)"
      ],
      "execution_count": 12,
      "outputs": [
        {
          "output_type": "stream",
          "name": "stdout",
          "text": [
            "(1961, 16) (1961, 16)\n"
          ]
        }
      ]
    },
    {
      "cell_type": "code",
      "metadata": {
        "colab": {
          "base_uri": "https://localhost:8080/",
          "height": 247
        },
        "id": "Nfm1F_0wQ0YX",
        "outputId": "a8f1714a-f9d4-40d7-8881-5aeb3fce063a"
      },
      "source": [
        "sample_train.head(3)"
      ],
      "execution_count": 13,
      "outputs": [
        {
          "output_type": "execute_result",
          "data": {
            "text/html": [
              "<div>\n",
              "<style scoped>\n",
              "    .dataframe tbody tr th:only-of-type {\n",
              "        vertical-align: middle;\n",
              "    }\n",
              "\n",
              "    .dataframe tbody tr th {\n",
              "        vertical-align: top;\n",
              "    }\n",
              "\n",
              "    .dataframe thead th {\n",
              "        text-align: right;\n",
              "    }\n",
              "</style>\n",
              "<table border=\"1\" class=\"dataframe\">\n",
              "  <thead>\n",
              "    <tr style=\"text-align: right;\">\n",
              "      <th></th>\n",
              "      <th>age</th>\n",
              "      <th>workclass</th>\n",
              "      <th>fnlwgt</th>\n",
              "      <th>education</th>\n",
              "      <th>education-num</th>\n",
              "      <th>marital-status</th>\n",
              "      <th>occupation</th>\n",
              "      <th>relationship</th>\n",
              "      <th>race</th>\n",
              "      <th>sex</th>\n",
              "      <th>capital-gain</th>\n",
              "      <th>capital-loss</th>\n",
              "      <th>hours-per-week</th>\n",
              "      <th>native-country</th>\n",
              "      <th>target</th>\n",
              "      <th>class_test</th>\n",
              "    </tr>\n",
              "  </thead>\n",
              "  <tbody>\n",
              "    <tr>\n",
              "      <th>30015</th>\n",
              "      <td>31</td>\n",
              "      <td>State-gov</td>\n",
              "      <td>440129</td>\n",
              "      <td>Some-college</td>\n",
              "      <td>10</td>\n",
              "      <td>Divorced</td>\n",
              "      <td>Protective-serv</td>\n",
              "      <td>Not-in-family</td>\n",
              "      <td>White</td>\n",
              "      <td>Male</td>\n",
              "      <td>0</td>\n",
              "      <td>0</td>\n",
              "      <td>40</td>\n",
              "      <td>United-States</td>\n",
              "      <td>1</td>\n",
              "      <td>1</td>\n",
              "    </tr>\n",
              "    <tr>\n",
              "      <th>3841</th>\n",
              "      <td>55</td>\n",
              "      <td>Federal-gov</td>\n",
              "      <td>189985</td>\n",
              "      <td>Some-college</td>\n",
              "      <td>10</td>\n",
              "      <td>Divorced</td>\n",
              "      <td>Adm-clerical</td>\n",
              "      <td>Unmarried</td>\n",
              "      <td>Black</td>\n",
              "      <td>Female</td>\n",
              "      <td>0</td>\n",
              "      <td>0</td>\n",
              "      <td>40</td>\n",
              "      <td>United-States</td>\n",
              "      <td>0</td>\n",
              "      <td>-1</td>\n",
              "    </tr>\n",
              "    <tr>\n",
              "      <th>27244</th>\n",
              "      <td>43</td>\n",
              "      <td>Private</td>\n",
              "      <td>289669</td>\n",
              "      <td>Masters</td>\n",
              "      <td>14</td>\n",
              "      <td>Divorced</td>\n",
              "      <td>Prof-specialty</td>\n",
              "      <td>Unmarried</td>\n",
              "      <td>White</td>\n",
              "      <td>Female</td>\n",
              "      <td>0</td>\n",
              "      <td>2547</td>\n",
              "      <td>40</td>\n",
              "      <td>United-States</td>\n",
              "      <td>1</td>\n",
              "      <td>1</td>\n",
              "    </tr>\n",
              "  </tbody>\n",
              "</table>\n",
              "</div>"
            ],
            "text/plain": [
              "       age     workclass  fnlwgt  ...  native-country  target class_test\n",
              "30015   31     State-gov  440129  ...   United-States       1          1\n",
              "3841    55   Federal-gov  189985  ...   United-States       0         -1\n",
              "27244   43       Private  289669  ...   United-States       1          1\n",
              "\n",
              "[3 rows x 16 columns]"
            ]
          },
          "metadata": {},
          "execution_count": 13
        }
      ]
    },
    {
      "cell_type": "code",
      "metadata": {
        "id": "ryjmqceRBtWE"
      },
      "source": [
        "cat_cols = sample_train.select_dtypes(include='object').columns.tolist()"
      ],
      "execution_count": 14,
      "outputs": []
    },
    {
      "cell_type": "code",
      "metadata": {
        "colab": {
          "base_uri": "https://localhost:8080/"
        },
        "id": "OHYs7SZCS6n7",
        "outputId": "6421fe59-79df-4955-aa3a-67613dc79cb6"
      },
      "source": [
        "model = catb.CatBoostClassifier(random_state=42, cat_features=cat_cols, silent=True)\n",
        "\n",
        "sample_data = sample_train.iloc[:,:-2]\n",
        "sample_target = sample_train.iloc[:,-2]\n",
        "\n",
        "model.fit(sample_data, \n",
        "          sample_target)\n",
        "\n",
        "y_predict = model.predict(sample_test.iloc[:,:-2].values)\n",
        "\n",
        "evaluate_results(sample_test.iloc[:,-2].values, y_predict)"
      ],
      "execution_count": 15,
      "outputs": [
        {
          "output_type": "stream",
          "name": "stdout",
          "text": [
            "Classification results:\n",
            "f1: 61.96%\n",
            "roc: 83.20%\n",
            "recall: 90.64%\n",
            "precision: 47.07%\n"
          ]
        }
      ]
    },
    {
      "cell_type": "markdown",
      "metadata": {
        "id": "xBo3JThtVPyS"
      },
      "source": [
        "Видим, что метрика f1 стала хуже, т.к. мы фактически при сэмплировании часть позиитивных классов отметили как негативные. Хотя метрика roc auc выросла. "
      ]
    },
    {
      "cell_type": "markdown",
      "metadata": {
        "id": "N-mKUYT_blNb"
      },
      "source": [
        "### 7. поэкспериментировать с долей P на шаге 5 (как будет меняться качество модели при уменьшении/увеличении размера P)"
      ]
    },
    {
      "cell_type": "code",
      "metadata": {
        "id": "1ge6WcxSBtUR"
      },
      "source": [
        "# Обернем все предыдущие вычисления в функцию\n",
        "def tst (data, p):\n",
        "    mod_data = data.copy()\n",
        "\n",
        "    # Возьмем позитивные индексы\n",
        "    pos_ind = np.where(mod_data.iloc[:,-1].values == 1)[0]\n",
        "\n",
        "    # перемешаем их\n",
        "    np.random.shuffle(pos_ind)\n",
        "\n",
        "    pos_sample_len = int(np.ceil(p * len(pos_ind)))\n",
        "\n",
        "    pos_sample = pos_ind[:pos_sample_len]\n",
        "\n",
        "    mod_data['class_test'] = -1\n",
        "    mod_data.loc[pos_sample,'class_test'] = 1\n",
        "\n",
        "    x_data = mod_data.iloc[:,:-2].values # just the X \n",
        "    y_labeled = mod_data.iloc[:,-1].values # new class (just the P & U)\n",
        "    y_positive = mod_data.iloc[:,-2].values # original class\n",
        "\n",
        "    mod_data = mod_data.sample(frac=1)\n",
        "    neg_sample = mod_data[mod_data['class_test']==-1][:len(mod_data[mod_data['class_test']==1])]\n",
        "    sample_test = mod_data[mod_data['class_test']==-1][len(mod_data[mod_data['class_test']==1]):]\n",
        "    pos_sample = mod_data[mod_data['class_test']==1]\n",
        "    print(neg_sample.shape, pos_sample.shape)\n",
        "    sample_train = pd.concat([neg_sample, pos_sample]).sample(frac=1)\n",
        "\n",
        "    cat_cols = sample_train.select_dtypes(include='object').columns.tolist()\n",
        "\n",
        "    model = catb.CatBoostClassifier(random_state=42, cat_features=cat_cols, silent=True)\n",
        "\n",
        "    sample_data = sample_train.iloc[:,:-2]\n",
        "    sample_target = sample_train.iloc[:,-2]\n",
        "\n",
        "    model.fit(sample_data, \n",
        "              sample_target)\n",
        "\n",
        "    y_predict = model.predict(sample_test.iloc[:,:-2].values)\n",
        "\n",
        "    evaluate_results(sample_test.iloc[:,-2].values, y_predict)\n",
        "\n"
      ],
      "execution_count": 16,
      "outputs": []
    },
    {
      "cell_type": "markdown",
      "metadata": {
        "id": "IyTcb5WxZZ5Q"
      },
      "source": [
        "Исследуем метрики на разных долях"
      ]
    },
    {
      "cell_type": "code",
      "metadata": {
        "colab": {
          "base_uri": "https://localhost:8080/"
        },
        "id": "zSADAfEfBtSb",
        "outputId": "26a9d7ac-2aba-434a-82d6-be136415fcde"
      },
      "source": [
        "list_p = [0.1, 0.2, 0.3, 0.4, 0.5, 0.6, 0.7, 0.8]\n",
        "\n",
        "for i in list_p:\n",
        "    print(i)\n",
        "    tst(data, i)\n",
        "    print('============================\\n')"
      ],
      "execution_count": 17,
      "outputs": [
        {
          "output_type": "stream",
          "name": "stdout",
          "text": [
            "0.1\n",
            "(785, 16) (785, 16)\n",
            "Classification results:\n",
            "f1: 63.53%\n",
            "roc: 81.86%\n",
            "recall: 90.69%\n",
            "precision: 48.89%\n",
            "============================\n",
            "\n",
            "0.2\n",
            "(1569, 16) (1569, 16)\n",
            "Classification results:\n",
            "f1: 62.77%\n",
            "roc: 82.53%\n",
            "recall: 89.19%\n",
            "precision: 48.42%\n",
            "============================\n",
            "\n",
            "0.3\n",
            "(2353, 16) (2353, 16)\n",
            "Classification results:\n",
            "f1: 60.11%\n",
            "roc: 83.15%\n",
            "recall: 91.18%\n",
            "precision: 44.84%\n",
            "============================\n",
            "\n",
            "0.4\n",
            "(3137, 16) (3137, 16)\n",
            "Classification results:\n",
            "f1: 57.24%\n",
            "roc: 83.37%\n",
            "recall: 90.44%\n",
            "precision: 41.87%\n",
            "============================\n",
            "\n",
            "0.5\n",
            "(3921, 16) (3921, 16)\n",
            "Classification results:\n",
            "f1: 53.71%\n",
            "roc: 83.90%\n",
            "recall: 91.32%\n",
            "precision: 38.04%\n",
            "============================\n",
            "\n",
            "0.6\n",
            "(4705, 16) (4705, 16)\n",
            "Classification results:\n",
            "f1: 49.44%\n",
            "roc: 83.94%\n",
            "recall: 89.32%\n",
            "precision: 34.18%\n",
            "============================\n",
            "\n",
            "0.7\n",
            "(5489, 16) (5489, 16)\n",
            "Classification results:\n",
            "f1: 43.56%\n",
            "roc: 83.79%\n",
            "recall: 88.54%\n",
            "precision: 28.88%\n",
            "============================\n",
            "\n",
            "0.8\n",
            "(6273, 16) (6273, 16)\n",
            "Classification results:\n",
            "f1: 35.56%\n",
            "roc: 84.91%\n",
            "recall: 89.23%\n",
            "precision: 22.20%\n",
            "============================\n",
            "\n"
          ]
        }
      ]
    },
    {
      "cell_type": "markdown",
      "metadata": {
        "id": "8RifKngDZiB2"
      },
      "source": [
        "При исследовании вероятностей видим, что чем больше сэмплируем, тем хуже становится метрика. Выходит что фактически мы сильнее \"путаем\" модель ложными данными при обычной классификации с нормальными данными. Но если бы фактически мы не знали четкого разбиения, то это нам помогло бы достичь точности в 61-63%."
      ]
    }
  ]
}